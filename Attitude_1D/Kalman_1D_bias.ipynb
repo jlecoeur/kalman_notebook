{
 "cells": [
  {
   "cell_type": "code",
   "execution_count": 2,
   "metadata": {
    "collapsed": false
   },
   "outputs": [
    {
     "name": "stdout",
     "output_type": "stream",
     "text": [
      "Populating the interactive namespace from numpy and matplotlib\n"
     ]
    }
   ],
   "source": [
    "%pylab inline\n",
    "import sympy as sp\n",
    "sp.init_printing()"
   ]
  },
  {
   "cell_type": "code",
   "execution_count": 8,
   "metadata": {
    "collapsed": false
   },
   "outputs": [],
   "source": [
    "\n",
    "dt        = sp.Symbol('dt')\n",
    "psi_k1_k1 = sp.Symbol('\\psi_{k-1 | k-1}') # roll prior\n",
    "psi_k_k1  = sp.Symbol('\\psi_{k   | k-1}') # roll predicted\n",
    "psi_k_k   = sp.Symbol('\\psi_{k   | k  }') # roll post\n",
    "d_psi     = sp.Symbol('\\dot{\\psi}_{k-1}') # roll rate\n",
    "psi_m     = sp.Symbol('\\psi_m')           # mesured roll\n",
    "\n",
    "b_psi_k1_k1  = sp.Symbol('b_{\\dot{\\psi}}_{k-1 | k-1}')   # roll rate bias\n",
    "b_psi_k_k1   = sp.Symbol('b_{\\dot{\\psi}}_{k   | k-1}')   # roll rate bias\n",
    "b_psi_k_k    = sp.Symbol('b_{\\dot{\\psi}}_{k   | k  }')   # roll rate bias"
   ]
  },
  {
   "cell_type": "markdown",
   "metadata": {},
   "source": [
    "### State"
   ]
  },
  {
   "cell_type": "code",
   "execution_count": 32,
   "metadata": {
    "collapsed": false
   },
   "outputs": [
    {
     "data": {
      "image/png": "[encoded data removed]",
      "text/latex": [
       "$$\\left[\\begin{matrix}\\psi_{{k   | k  }}\\\\b_{{\\dot{\\psi}} {k   | k  }}\\end{matrix}\\right]$$"
      ],
      "text/plain": [
       "⎡     \\psi_{k   | k  }     ⎤\n",
       "⎢                          ⎥\n",
       "⎣b_{\\dot{\\psi}}_{k   | k  }⎦"
      ]
     },
     "execution_count": 32,
     "metadata": {},
     "output_type": "execute_result"
    }
   ],
   "source": [
    "\n",
    "x_k1_k1 = sp.Matrix([ psi_k1_k1,\n",
    "                      b_psi_k1_k1 ]) # prior\n",
    "x_k_k1  = sp.Matrix([ psi_k_k1,\n",
    "                      b_psi_k_k1  ]) # predicted\n",
    "x_k_k   = sp.Matrix([ psi_k_k,\n",
    "                      b_psi_k_k   ]) # post\n",
    "\n",
    "x_k_k"
   ]
  },
  {
   "cell_type": "markdown",
   "metadata": {},
   "source": [
    "### Measurement noise"
   ]
  },
  {
   "cell_type": "code",
   "execution_count": 10,
   "metadata": {
    "collapsed": false
   },
   "outputs": [
    {
     "data": {
      "image/png": "[encoded data removed]",
      "text/latex": [
       "$$\\left[\\begin{matrix}\\sigma_{{m}}\\end{matrix}\\right]$$"
      ],
      "text/plain": [
       "[\\sigma_{m}]"
      ]
     },
     "execution_count": 10,
     "metadata": {},
     "output_type": "execute_result"
    }
   ],
   "source": [
    "sigma = sp.Symbol('\\sigma_{m}')\n",
    "\n",
    "# Measurement noise covariance\n",
    "R = sigma * sp.eye(1)\n",
    "\n",
    "R"
   ]
  },
  {
   "cell_type": "markdown",
   "metadata": {},
   "source": [
    "### Measurement"
   ]
  },
  {
   "cell_type": "code",
   "execution_count": 11,
   "metadata": {
    "collapsed": false
   },
   "outputs": [
    {
     "data": {
      "image/png": "[encoded data removed]",
      "text/latex": [
       "$$\\left[\\begin{matrix}\\psi_{m}\\end{matrix}\\right]$$"
      ],
      "text/plain": [
       "[\\psi_m]"
      ]
     },
     "execution_count": 11,
     "metadata": {},
     "output_type": "execute_result"
    }
   ],
   "source": [
    "z_k = sp.Matrix([ psi_m ])\n",
    "\n",
    "z_k"
   ]
  },
  {
   "cell_type": "markdown",
   "metadata": {},
   "source": [
    "### Input"
   ]
  },
  {
   "cell_type": "code",
   "execution_count": 12,
   "metadata": {
    "collapsed": false
   },
   "outputs": [
    {
     "data": {
      "image/png": "[encoded data removed]",
      "text/latex": [
       "$$\\left[\\begin{matrix}\\dot{\\psi}_{{k-1}}\\end{matrix}\\right]$$"
      ],
      "text/plain": [
       "[\\dot{\\psi}_{k-1}]"
      ]
     },
     "execution_count": 12,
     "metadata": {},
     "output_type": "execute_result"
    }
   ],
   "source": [
    "u_k1    = sp.Matrix([ d_psi ])\n",
    "\n",
    "u_k1"
   ]
  },
  {
   "cell_type": "markdown",
   "metadata": {},
   "source": [
    "### State covariance matrix"
   ]
  },
  {
   "cell_type": "code",
   "execution_count": 15,
   "metadata": {
    "collapsed": false
   },
   "outputs": [
    {
     "data": {
      "image/png": "[encoded data removed]",
      "text/latex": [
       "$$\\left[\\begin{matrix}p_{00 {k   | k-1}} & p_{01 {k   | k-1}}\\\\p_{10 {k   | k-1}} & p_{11 {k   | k-1}}\\end{matrix}\\right]$$"
      ],
      "text/plain": [
       "⎡p_00_{k   | k-1}  p_01_{k   | k-1}⎤\n",
       "⎢                                  ⎥\n",
       "⎣p_10_{k   | k-1}  p_11_{k   | k-1}⎦"
      ]
     },
     "execution_count": 15,
     "metadata": {},
     "output_type": "execute_result"
    }
   ],
   "source": [
    "P_k1_k1 = sp.Matrix([ [sp.Symbol('p_' + str(i) + str(j) + '_{k-1 | k-1}') for j in [0,1] ] for i in [0,1] ])\n",
    "P_k_k1  = sp.Matrix([ [sp.Symbol('p_' + str(i) + str(j) + '_{k   | k-1}') for j in [0,1] ] for i in [0,1] ])\n",
    "P_k_k   = sp.Matrix([ [sp.Symbol('p_' + str(i) + str(j) + '_{k   | k  }') for j in [0,1] ] for i in [0,1] ])\n",
    "\n",
    "P_k_k1"
   ]
  },
  {
   "cell_type": "markdown",
   "metadata": {},
   "source": [
    "### Process noise covariance"
   ]
  },
  {
   "cell_type": "code",
   "execution_count": 21,
   "metadata": {
    "collapsed": false
   },
   "outputs": [
    {
     "data": {
      "image/png": "[encoded data removed]",
      "text/latex": [
       "$$\\left[\\begin{matrix}\\sigma_{q} + \\sigma_{{b {\\dot{\\phi}}}} dt^{2} & \\sigma_{{b {\\dot{\\phi}}}} dt\\\\\\sigma_{{b {\\dot{\\phi}}}} dt & \\sigma_{{b {\\dot{\\phi}}}}\\end{matrix}\\right]$$"
      ],
      "text/plain": [
       "⎡                                     2                            ⎤\n",
       "⎢\\sigma_q + \\sigma_{b_{\\dot{\\phi}}}⋅dt   \\sigma_{b_{\\dot{\\phi}}}⋅dt⎥\n",
       "⎢                                                                  ⎥\n",
       "⎣      \\sigma_{b_{\\dot{\\phi}}}⋅dt         \\sigma_{b_{\\dot{\\phi}}}  ⎦"
      ]
     },
     "execution_count": 21,
     "metadata": {},
     "output_type": "execute_result"
    }
   ],
   "source": [
    "# Uncertainty on model\n",
    "sigma_q = sp.Symbol('\\sigma_q')\n",
    "\n",
    "# Uncertainty on bias drift\n",
    "sigma_b = sp.Symbol('\\sigma_{b_{\\dot{\\phi}}}')\n",
    "\n",
    "w = sp.Matrix([dt, 1])\n",
    "Q = sigma_b * w * w.T\n",
    "Q[0,0] += sigma_q\n",
    "\n",
    "Q"
   ]
  },
  {
   "cell_type": "markdown",
   "metadata": {},
   "source": [
    "---"
   ]
  },
  {
   "cell_type": "markdown",
   "metadata": {},
   "source": [
    "---"
   ]
  },
  {
   "cell_type": "markdown",
   "metadata": {},
   "source": [
    "# Kalman formulas"
   ]
  },
  {
   "cell_type": "markdown",
   "metadata": {},
   "source": [
    "### State Prediction"
   ]
  },
  {
   "cell_type": "code",
   "execution_count": 34,
   "metadata": {
    "collapsed": false
   },
   "outputs": [
    {
     "data": {
      "image/png": "[encoded data removed]",
      "text/latex": [
       "$$\\left[\\begin{matrix}\\dot{\\psi}_{{k-1}} dt + \\psi_{{k-1 | k-1}} + b_{{\\dot{\\psi}} {k-1 | k-1}} dt\\\\b_{{\\dot{\\psi}} {k-1 | k-1}}\\end{matrix}\\right]$$"
      ],
      "text/plain": [
       "⎡\\dot{\\psi}_{k-1}⋅dt + \\psi_{k-1 | k-1} + b_{\\dot{\\psi}}_{k-1 | k-1}⋅dt⎤\n",
       "⎢                                                                      ⎥\n",
       "⎣                      b_{\\dot{\\psi}}_{k-1 | k-1}                      ⎦"
      ]
     },
     "execution_count": 34,
     "metadata": {},
     "output_type": "execute_result"
    }
   ],
   "source": [
    "def f(x, u, dt):\n",
    "    return sp.Matrix([ x[0] + dt*x[1] + dt*u[0],\n",
    "                       x[1] ])\n",
    "\n",
    "x_k_k1 = f( x_k1_k1, u_k1, dt )\n",
    "\n",
    "x_k_k1"
   ]
  },
  {
   "cell_type": "markdown",
   "metadata": {},
   "source": [
    "### Jacobian of State Prediction"
   ]
  },
  {
   "cell_type": "code",
   "execution_count": 38,
   "metadata": {
    "collapsed": false
   },
   "outputs": [
    {
     "data": {
      "image/png": "[encoded data removed]",
      "text/latex": [
       "$$\\left[\\begin{matrix}1 & dt\\\\0 & 1\\end{matrix}\\right]$$"
      ],
      "text/plain": [
       "⎡1  dt⎤\n",
       "⎢     ⎥\n",
       "⎣0  1 ⎦"
      ]
     },
     "execution_count": 38,
     "metadata": {},
     "output_type": "execute_result"
    }
   ],
   "source": [
    "F = f( x_k1_k1, u_k1, dt ).jacobian( x_k1_k1 )\n",
    "\n",
    "F"
   ]
  },
  {
   "cell_type": "markdown",
   "metadata": {},
   "source": [
    "### State Covariance prediction"
   ]
  },
  {
   "cell_type": "code",
   "execution_count": 39,
   "metadata": {
    "collapsed": false
   },
   "outputs": [
    {
     "data": {
      "image/png": "[encoded data removed]",
      "text/latex": [
       "$$\\left[\\begin{matrix}\\sigma_{q} + \\sigma_{{b {\\dot{\\phi}}}} dt^{2} + dt p_{10 {k-1 | k-1}} + dt \\left(dt p_{11 {k-1 | k-1}} + p_{01 {k-1 | k-1}}\\right) + p_{00 {k-1 | k-1}} & \\sigma_{{b {\\dot{\\phi}}}} dt + dt p_{11 {k-1 | k-1}} + p_{01 {k-1 | k-1}}\\\\\\sigma_{{b {\\dot{\\phi}}}} dt + dt p_{11 {k-1 | k-1}} + p_{10 {k-1 | k-1}} & \\sigma_{{b {\\dot{\\phi}}}} + p_{11 {k-1 | k-1}}\\end{matrix}\\right]$$"
      ],
      "text/plain": [
       "⎡                                     2                                       \n",
       "⎢\\sigma_q + \\sigma_{b_{\\dot{\\phi}}}⋅dt  + dt⋅p_10_{k-1 | k-1} + dt⋅(dt⋅p_11_{k\n",
       "⎢                                                                             \n",
       "⎣                             \\sigma_{b_{\\dot{\\phi}}}⋅dt + dt⋅p_11_{k-1 | k-1}\n",
       "\n",
       "                                                                              \n",
       "-1 | k-1} + p_01_{k-1 | k-1}) + p_00_{k-1 | k-1}  \\sigma_{b_{\\dot{\\phi}}}⋅dt +\n",
       "                                                                              \n",
       " + p_10_{k-1 | k-1}                                           \\sigma_{b_{\\dot{\n",
       "\n",
       "                                       ⎤\n",
       " dt⋅p_11_{k-1 | k-1} + p_01_{k-1 | k-1}⎥\n",
       "                                       ⎥\n",
       "\\phi}}} + p_11_{k-1 | k-1}             ⎦"
      ]
     },
     "execution_count": 39,
     "metadata": {},
     "output_type": "execute_result"
    }
   ],
   "source": [
    "P_k_k1 = F * P_k1_k1 * F.T + Q\n",
    "\n",
    "P_k_k1"
   ]
  },
  {
   "cell_type": "markdown",
   "metadata": {},
   "source": [
    "### Observation fonction"
   ]
  },
  {
   "cell_type": "code",
   "execution_count": 40,
   "metadata": {
    "collapsed": false
   },
   "outputs": [
    {
     "data": {
      "image/png": "[encoded data removed]",
      "text/latex": [
       "$$\\left[\\begin{matrix}\\dot{\\psi}_{{k-1}} dt + \\psi_{{k-1 | k-1}} + b_{{\\dot{\\psi}} {k-1 | k-1}} dt\\end{matrix}\\right]$$"
      ],
      "text/plain": [
       "[\\dot{\\psi}_{k-1}⋅dt + \\psi_{k-1 | k-1} + b_{\\dot{\\psi}}_{k-1 | k-1}⋅dt]"
      ]
     },
     "execution_count": 40,
     "metadata": {},
     "output_type": "execute_result"
    }
   ],
   "source": [
    "def h(x):\n",
    "    return sp.Matrix([x[0]])\n",
    "\n",
    "h(x_k_k1)"
   ]
  },
  {
   "cell_type": "markdown",
   "metadata": {},
   "source": [
    "### Jacobian of observation function"
   ]
  },
  {
   "cell_type": "code",
   "execution_count": 41,
   "metadata": {
    "collapsed": false
   },
   "outputs": [
    {
     "data": {
      "image/png": "[encoded data removed]",
      "text/latex": [
       "$$\\left[\\begin{matrix}1 & dt\\end{matrix}\\right]$$"
      ],
      "text/plain": [
       "[1  dt]"
      ]
     },
     "execution_count": 41,
     "metadata": {},
     "output_type": "execute_result"
    }
   ],
   "source": [
    "H = h(x_k_k1).jacobian(x_k1_k1)\n",
    "\n",
    "H"
   ]
  },
  {
   "cell_type": "markdown",
   "metadata": {},
   "source": [
    "### Innovation"
   ]
  },
  {
   "cell_type": "code",
   "execution_count": 42,
   "metadata": {
    "collapsed": false
   },
   "outputs": [
    {
     "data": {
      "image/png": "[encoded data removed]",
      "text/latex": [
       "$$\\left[\\begin{matrix}- \\dot{\\psi}_{{k-1}} dt + \\psi_{m} - \\psi_{{k-1 | k-1}} - b_{{\\dot{\\psi}} {k-1 | k-1}} dt\\end{matrix}\\right]$$"
      ],
      "text/plain": [
       "[-\\dot{\\psi}_{k-1}⋅dt + \\psi_m - \\psi_{k-1 | k-1} - b_{\\dot{\\psi}}_{k-1 | k-1}\n",
       "⋅dt]"
      ]
     },
     "execution_count": 42,
     "metadata": {},
     "output_type": "execute_result"
    }
   ],
   "source": [
    "y = z_k - h(x_k_k1)\n",
    "\n",
    "y"
   ]
  },
  {
   "cell_type": "markdown",
   "metadata": {},
   "source": [
    "### Innovation covariance"
   ]
  },
  {
   "cell_type": "code",
   "execution_count": 43,
   "metadata": {
    "collapsed": false
   },
   "outputs": [
    {
     "data": {
      "image/png": "[encoded data removed]",
      "text/latex": [
       "$$\\left[\\begin{matrix}\\sigma_{q} + \\sigma_{{b {\\dot{\\phi}}}} dt^{2} + \\sigma_{{m}} + dt p_{10 {k-1 | k-1}} + dt \\left(dt p_{11 {k-1 | k-1}} + p_{01 {k-1 | k-1}}\\right) + dt \\left(\\sigma_{{b {\\dot{\\phi}}}} dt + dt p_{11 {k-1 | k-1}} + p_{10 {k-1 | k-1}}\\right) + dt \\left(\\sigma_{{b {\\dot{\\phi}}}} dt + dt p_{11 {k-1 | k-1}} + dt \\left(\\sigma_{{b {\\dot{\\phi}}}} + p_{11 {k-1 | k-1}}\\right) + p_{01 {k-1 | k-1}}\\right) + p_{00 {k-1 | k-1}}\\end{matrix}\\right]$$"
      ],
      "text/plain": [
       "⎡                                     2                                       \n",
       "⎣\\sigma_q + \\sigma_{b_{\\dot{\\phi}}}⋅dt  + \\sigma_{m} + dt⋅p_10_{k-1 | k-1} + d\n",
       "\n",
       "                                                                              \n",
       "t⋅(dt⋅p_11_{k-1 | k-1} + p_01_{k-1 | k-1}) + dt⋅(\\sigma_{b_{\\dot{\\phi}}}⋅dt + \n",
       "\n",
       "                                                                              \n",
       "dt⋅p_11_{k-1 | k-1} + p_10_{k-1 | k-1}) + dt⋅(\\sigma_{b_{\\dot{\\phi}}}⋅dt + dt⋅\n",
       "\n",
       "                                                                              \n",
       "p_11_{k-1 | k-1} + dt⋅(\\sigma_{b_{\\dot{\\phi}}} + p_11_{k-1 | k-1}) + p_01_{k-1\n",
       "\n",
       "                           ⎤\n",
       " | k-1}) + p_00_{k-1 | k-1}⎦"
      ]
     },
     "execution_count": 43,
     "metadata": {},
     "output_type": "execute_result"
    }
   ],
   "source": [
    "S = H * P_k_k1 * H.T + R\n",
    "\n",
    "S"
   ]
  },
  {
   "cell_type": "markdown",
   "metadata": {},
   "source": [
    "### Kalman gain"
   ]
  },
  {
   "cell_type": "code",
   "execution_count": 44,
   "metadata": {
    "collapsed": false
   },
   "outputs": [
    {
     "data": {
      "image/png": "[encoded data removed]",
      "text/latex": [
       "$$\\left[\\begin{matrix}\\frac{\\sigma_{q} + \\sigma_{{b {\\dot{\\phi}}}} dt^{2} + dt p_{10 {k-1 | k-1}} + dt \\left(dt p_{11 {k-1 | k-1}} + p_{01 {k-1 | k-1}}\\right) + dt \\left(\\sigma_{{b {\\dot{\\phi}}}} dt + dt p_{11 {k-1 | k-1}} + p_{01 {k-1 | k-1}}\\right) + p_{00 {k-1 | k-1}}}{\\sigma_{q} + 4 \\sigma_{{b {\\dot{\\phi}}}} dt^{2} + \\sigma_{{m}} + 4 dt^{2} p_{11 {k-1 | k-1}} + 2 dt p_{01 {k-1 | k-1}} + 2 dt p_{10 {k-1 | k-1}} + p_{00 {k-1 | k-1}}}\\\\\\frac{\\sigma_{{b {\\dot{\\phi}}}} dt + dt p_{11 {k-1 | k-1}} + dt \\left(\\sigma_{{b {\\dot{\\phi}}}} + p_{11 {k-1 | k-1}}\\right) + p_{10 {k-1 | k-1}}}{\\sigma_{q} + 4 \\sigma_{{b {\\dot{\\phi}}}} dt^{2} + \\sigma_{{m}} + 4 dt^{2} p_{11 {k-1 | k-1}} + 2 dt p_{01 {k-1 | k-1}} + 2 dt p_{10 {k-1 | k-1}} + p_{00 {k-1 | k-1}}}\\end{matrix}\\right]$$"
      ],
      "text/plain": [
       "⎡                                     2                                       \n",
       "⎢\\sigma_q + \\sigma_{b_{\\dot{\\phi}}}⋅dt  + dt⋅p_10_{k-1 | k-1} + dt⋅(dt⋅p_11_{k\n",
       "⎢─────────────────────────────────────────────────────────────────────────────\n",
       "⎢                                                                  2          \n",
       "⎢                           \\sigma_q + 4⋅\\sigma_{b_{\\dot{\\phi}}}⋅dt  + \\sigma_\n",
       "⎢                                                                             \n",
       "⎢                                         \\sigma_{b_{\\dot{\\phi}}}⋅dt + dt⋅p_11\n",
       "⎢                           ──────────────────────────────────────────────────\n",
       "⎢                                                                  2          \n",
       "⎣                           \\sigma_q + 4⋅\\sigma_{b_{\\dot{\\phi}}}⋅dt  + \\sigma_\n",
       "\n",
       "                                                                              \n",
       "-1 | k-1} + p_01_{k-1 | k-1}) + dt⋅(\\sigma_{b_{\\dot{\\phi}}}⋅dt + dt⋅p_11_{k-1 \n",
       "──────────────────────────────────────────────────────────────────────────────\n",
       "          2                                                                   \n",
       "{m} + 4⋅dt ⋅p_11_{k-1 | k-1} + 2⋅dt⋅p_01_{k-1 | k-1} + 2⋅dt⋅p_10_{k-1 | k-1} +\n",
       "                                                                              \n",
       "_{k-1 | k-1} + dt⋅(\\sigma_{b_{\\dot{\\phi}}} + p_11_{k-1 | k-1}) + p_10_{k-1 | k\n",
       "──────────────────────────────────────────────────────────────────────────────\n",
       "          2                                                                   \n",
       "{m} + 4⋅dt ⋅p_11_{k-1 | k-1} + 2⋅dt⋅p_01_{k-1 | k-1} + 2⋅dt⋅p_10_{k-1 | k-1} +\n",
       "\n",
       "                                             ⎤\n",
       "| k-1} + p_01_{k-1 | k-1}) + p_00_{k-1 | k-1}⎥\n",
       "─────────────────────────────────────────────⎥\n",
       "                                             ⎥\n",
       " p_00_{k-1 | k-1}                            ⎥\n",
       "                                             ⎥\n",
       "-1}                                          ⎥\n",
       "─────────────────                            ⎥\n",
       "                                             ⎥\n",
       " p_00_{k-1 | k-1}                            ⎦"
      ]
     },
     "execution_count": 44,
     "metadata": {},
     "output_type": "execute_result"
    }
   ],
   "source": [
    "K = P_k_k1 * H.T * S**(-1)\n",
    "\n",
    "K"
   ]
  },
  {
   "cell_type": "markdown",
   "metadata": {},
   "source": [
    "### State Covariance update"
   ]
  },
  {
   "cell_type": "code",
   "execution_count": 49,
   "metadata": {
    "collapsed": false
   },
   "outputs": [
    {
     "data": {
      "image/png": "[encoded data removed]",
      "text/latex": [
       "$$\\left[\\begin{matrix}\\frac{1}{\\sigma_{q} + 4 \\sigma_{{b {\\dot{\\phi}}}} dt^{2} + \\sigma_{{m}} + 4 dt^{2} p_{11 {k-1 | k-1}} + 2 dt p_{01 {k-1 | k-1}} + 2 dt p_{10 {k-1 | k-1}} + p_{00 {k-1 | k-1}}} \\left(\\sigma_{q} \\sigma_{{b {\\dot{\\phi}}}} dt^{2} + \\sigma_{q} \\sigma_{{m}} + \\sigma_{q} dt^{2} p_{11 {k-1 | k-1}} + \\sigma_{{b {\\dot{\\phi}}}} \\sigma_{{m}} dt^{2} + \\sigma_{{b {\\dot{\\phi}}}} dt^{2} p_{00 {k-1 | k-1}} + \\sigma_{{m}} dt^{2} p_{11 {k-1 | k-1}} + \\sigma_{{m}} dt p_{01 {k-1 | k-1}} + \\sigma_{{m}} dt p_{10 {k-1 | k-1}} + \\sigma_{{m}} p_{00 {k-1 | k-1}} + dt^{2} p_{00 {k-1 | k-1}} p_{11 {k-1 | k-1}} - dt^{2} p_{01 {k-1 | k-1}} p_{10 {k-1 | k-1}}\\right) & \\frac{- \\sigma_{q} \\sigma_{{b {\\dot{\\phi}}}} dt - \\sigma_{q} dt p_{11 {k-1 | k-1}} + \\sigma_{{b {\\dot{\\phi}}}} \\sigma_{{m}} dt - \\sigma_{{b {\\dot{\\phi}}}} dt p_{00 {k-1 | k-1}} + \\sigma_{{m}} dt p_{11 {k-1 | k-1}} + \\sigma_{{m}} p_{01 {k-1 | k-1}} - dt p_{00 {k-1 | k-1}} p_{11 {k-1 | k-1}} + dt p_{01 {k-1 | k-1}} p_{10 {k-1 | k-1}}}{\\sigma_{q} + 4 \\sigma_{{b {\\dot{\\phi}}}} dt^{2} + \\sigma_{{m}} + 4 dt^{2} p_{11 {k-1 | k-1}} + 2 dt p_{01 {k-1 | k-1}} + 2 dt p_{10 {k-1 | k-1}} + p_{00 {k-1 | k-1}}}\\\\\\frac{- \\sigma_{q} \\sigma_{{b {\\dot{\\phi}}}} dt - \\sigma_{q} dt p_{11 {k-1 | k-1}} + \\sigma_{{b {\\dot{\\phi}}}} \\sigma_{{m}} dt - \\sigma_{{b {\\dot{\\phi}}}} dt p_{00 {k-1 | k-1}} + \\sigma_{{m}} dt p_{11 {k-1 | k-1}} + \\sigma_{{m}} p_{10 {k-1 | k-1}} - dt p_{00 {k-1 | k-1}} p_{11 {k-1 | k-1}} + dt p_{01 {k-1 | k-1}} p_{10 {k-1 | k-1}}}{\\sigma_{q} + 4 \\sigma_{{b {\\dot{\\phi}}}} dt^{2} + \\sigma_{{m}} + 4 dt^{2} p_{11 {k-1 | k-1}} + 2 dt p_{01 {k-1 | k-1}} + 2 dt p_{10 {k-1 | k-1}} + p_{00 {k-1 | k-1}}} & \\frac{\\sigma_{q} \\sigma_{{b {\\dot{\\phi}}}} + \\sigma_{q} p_{11 {k-1 | k-1}} + \\sigma_{{b {\\dot{\\phi}}}} \\sigma_{{m}} + \\sigma_{{b {\\dot{\\phi}}}} p_{00 {k-1 | k-1}} + \\sigma_{{m}} p_{11 {k-1 | k-1}} + p_{00 {k-1 | k-1}} p_{11 {k-1 | k-1}} - p_{01 {k-1 | k-1}} p_{10 {k-1 | k-1}}}{\\sigma_{q} + 4 \\sigma_{{b {\\dot{\\phi}}}} dt^{2} + \\sigma_{{m}} + 4 dt^{2} p_{11 {k-1 | k-1}} + 2 dt p_{01 {k-1 | k-1}} + 2 dt p_{10 {k-1 | k-1}} + p_{00 {k-1 | k-1}}}\\end{matrix}\\right]$$"
      ],
      "text/plain": [
       "⎡                                   2                                    2    \n",
       "⎢\\sigma_q⋅\\sigma_{b_{\\dot{\\phi}}}⋅dt  + \\sigma_q⋅\\sigma_{m} + \\sigma_q⋅dt ⋅p_1\n",
       "⎢─────────────────────────────────────────────────────────────────────────────\n",
       "⎢                                                                             \n",
       "⎢                                                                             \n",
       "⎢                                                                             \n",
       "⎢                                               -\\sigma_q⋅\\sigma_{b_{\\dot{\\phi\n",
       "⎢                                               ──────────────────────────────\n",
       "⎢                                                                             \n",
       "⎣                                                                             \n",
       "\n",
       "                                                     2                        \n",
       "1_{k-1 | k-1} + \\sigma_{b_{\\dot{\\phi}}}⋅\\sigma_{m}⋅dt  + \\sigma_{b_{\\dot{\\phi}\n",
       "──────────────────────────────────────────────────────────────────────────────\n",
       "                                                                              \n",
       "                                            \\sigma_q + 4⋅\\sigma_{b_{\\dot{\\phi}\n",
       "                                                                              \n",
       "}}}⋅dt - \\sigma_q⋅dt⋅p_11_{k-1 | k-1} + \\sigma_{b_{\\dot{\\phi}}}⋅\\sigma_{m}⋅dt \n",
       "──────────────────────────────────────────────────────────────────────────────\n",
       "                                                                              \n",
       "                                            \\sigma_q + 4⋅\\sigma_{b_{\\dot{\\phi}\n",
       "\n",
       "     2                                 2                                      \n",
       "}}⋅dt ⋅p_00_{k-1 | k-1} + \\sigma_{m}⋅dt ⋅p_11_{k-1 | k-1} + \\sigma_{m}⋅dt⋅p_01\n",
       "──────────────────────────────────────────────────────────────────────────────\n",
       "     2                    2                                                   \n",
       "}}⋅dt  + \\sigma_{m} + 4⋅dt ⋅p_11_{k-1 | k-1} + 2⋅dt⋅p_01_{k-1 | k-1} + 2⋅dt⋅p_\n",
       "                                                                              \n",
       "- \\sigma_{b_{\\dot{\\phi}}}⋅dt⋅p_00_{k-1 | k-1} + \\sigma_{m}⋅dt⋅p_11_{k-1 | k-1}\n",
       "──────────────────────────────────────────────────────────────────────────────\n",
       "     2                    2                                                   \n",
       "}}⋅dt  + \\sigma_{m} + 4⋅dt ⋅p_11_{k-1 | k-1} + 2⋅dt⋅p_01_{k-1 | k-1} + 2⋅dt⋅p_\n",
       "\n",
       "                                                                              \n",
       "_{k-1 | k-1} + \\sigma_{m}⋅dt⋅p_10_{k-1 | k-1} + \\sigma_{m}⋅p_00_{k-1 | k-1} + \n",
       "──────────────────────────────────────────────────────────────────────────────\n",
       "                                                                              \n",
       "10_{k-1 | k-1} + p_00_{k-1 | k-1}                                             \n",
       "                                                                              \n",
       " + \\sigma_{m}⋅p_10_{k-1 | k-1} - dt⋅p_00_{k-1 | k-1}⋅p_11_{k-1 | k-1} + dt⋅p_0\n",
       "──────────────────────────────────────────────────────────────────────────────\n",
       "                                                                              \n",
       "10_{k-1 | k-1} + p_00_{k-1 | k-1}                                             \n",
       "\n",
       "  2                                       2                                   \n",
       "dt ⋅p_00_{k-1 | k-1}⋅p_11_{k-1 | k-1} - dt ⋅p_01_{k-1 | k-1}⋅p_10_{k-1 | k-1} \n",
       "───────────────────────────────────────────────────────────────────────────── \n",
       "                                                                              \n",
       "                                                                              \n",
       "                                                                              \n",
       "1_{k-1 | k-1}⋅p_10_{k-1 | k-1}                                                \n",
       "──────────────────────────────                                                \n",
       "                                                                              \n",
       "                                                                              \n",
       "\n",
       "                                                                              \n",
       " -\\sigma_q⋅\\sigma_{b_{\\dot{\\phi}}}⋅dt - \\sigma_q⋅dt⋅p_11_{k-1 | k-1} + \\sigma_\n",
       " ─────────────────────────────────────────────────────────────────────────────\n",
       "                                                                              \n",
       "                                                                           \\si\n",
       "                                                                              \n",
       "                           \\sigma_q⋅\\sigma_{b_{\\dot{\\phi}}} + \\sigma_q⋅p_11_{k\n",
       "                           ───────────────────────────────────────────────────\n",
       "                                                                              \n",
       "                                                                           \\si\n",
       "\n",
       "                                                                              \n",
       "{b_{\\dot{\\phi}}}⋅\\sigma_{m}⋅dt - \\sigma_{b_{\\dot{\\phi}}}⋅dt⋅p_00_{k-1 | k-1} +\n",
       "──────────────────────────────────────────────────────────────────────────────\n",
       "                                    2                    2                    \n",
       "gma_q + 4⋅\\sigma_{b_{\\dot{\\phi}}}⋅dt  + \\sigma_{m} + 4⋅dt ⋅p_11_{k-1 | k-1} + \n",
       "                                                                              \n",
       "-1 | k-1} + \\sigma_{b_{\\dot{\\phi}}}⋅\\sigma_{m} + \\sigma_{b_{\\dot{\\phi}}}⋅p_00_\n",
       "──────────────────────────────────────────────────────────────────────────────\n",
       "                                    2                    2                    \n",
       "gma_q + 4⋅\\sigma_{b_{\\dot{\\phi}}}⋅dt  + \\sigma_{m} + 4⋅dt ⋅p_11_{k-1 | k-1} + \n",
       "\n",
       "                                                                              \n",
       " \\sigma_{m}⋅dt⋅p_11_{k-1 | k-1} + \\sigma_{m}⋅p_01_{k-1 | k-1} - dt⋅p_00_{k-1 |\n",
       "──────────────────────────────────────────────────────────────────────────────\n",
       "                                                                              \n",
       "2⋅dt⋅p_01_{k-1 | k-1} + 2⋅dt⋅p_10_{k-1 | k-1} + p_00_{k-1 | k-1}              \n",
       "                                                                              \n",
       "{k-1 | k-1} + \\sigma_{m}⋅p_11_{k-1 | k-1} + p_00_{k-1 | k-1}⋅p_11_{k-1 | k-1} \n",
       "──────────────────────────────────────────────────────────────────────────────\n",
       "                                                                              \n",
       "2⋅dt⋅p_01_{k-1 | k-1} + 2⋅dt⋅p_10_{k-1 | k-1} + p_00_{k-1 | k-1}              \n",
       "\n",
       "                                                             ⎤\n",
       " k-1}⋅p_11_{k-1 | k-1} + dt⋅p_01_{k-1 | k-1}⋅p_10_{k-1 | k-1}⎥\n",
       "─────────────────────────────────────────────────────────────⎥\n",
       "                                                             ⎥\n",
       "                                                             ⎥\n",
       "                                                             ⎥\n",
       "- p_01_{k-1 | k-1}⋅p_10_{k-1 | k-1}                          ⎥\n",
       "───────────────────────────────────                          ⎥\n",
       "                                                             ⎥\n",
       "                                                             ⎦"
      ]
     },
     "execution_count": 49,
     "metadata": {},
     "output_type": "execute_result"
    }
   ],
   "source": [
    "P_k_k = (sp.eye(2) - K * H) * P_k_k1\n",
    "\n",
    "P_k_k.simplify()\n",
    "\n",
    "P_k_k"
   ]
  },
  {
   "cell_type": "markdown",
   "metadata": {},
   "source": [
    "### State update"
   ]
  },
  {
   "cell_type": "code",
   "execution_count": 53,
   "metadata": {
    "collapsed": false
   },
   "outputs": [
    {
     "data": {
      "image/png": "[encoded data removed]",
      "text/latex": [
       "$$\\left[\\begin{matrix}\\frac{1}{\\sigma_{q} + 4 \\sigma_{{b {\\dot{\\phi}}}} dt^{2} + \\sigma_{{m}} + 4 dt^{2} p_{11 {k-1 | k-1}} + 2 dt p_{01 {k-1 | k-1}} + 2 dt p_{10 {k-1 | k-1}} + p_{00 {k-1 | k-1}}} \\left(\\left(\\dot{\\psi}_{{k-1}} dt + \\psi_{{k-1 | k-1}} + b_{{\\dot{\\psi}} {k-1 | k-1}} dt\\right) \\left(\\sigma_{q} + 4 \\sigma_{{b {\\dot{\\phi}}}} dt^{2} + \\sigma_{{m}} + 4 dt^{2} p_{11 {k-1 | k-1}} + 2 dt p_{01 {k-1 | k-1}} + 2 dt p_{10 {k-1 | k-1}} + p_{00 {k-1 | k-1}}\\right) - \\left(\\dot{\\psi}_{{k-1}} dt - \\psi_{m} + \\psi_{{k-1 | k-1}} + b_{{\\dot{\\psi}} {k-1 | k-1}} dt\\right) \\left(\\sigma_{q} + \\sigma_{{b {\\dot{\\phi}}}} dt^{2} + dt p_{10 {k-1 | k-1}} + dt \\left(dt p_{11 {k-1 | k-1}} + p_{01 {k-1 | k-1}}\\right) + dt \\left(\\sigma_{{b {\\dot{\\phi}}}} dt + dt p_{11 {k-1 | k-1}} + p_{01 {k-1 | k-1}}\\right) + p_{00 {k-1 | k-1}}\\right)\\right)\\\\\\frac{1}{\\sigma_{q} + 4 \\sigma_{{b {\\dot{\\phi}}}} dt^{2} + \\sigma_{{m}} + 4 dt^{2} p_{11 {k-1 | k-1}} + 2 dt p_{01 {k-1 | k-1}} + 2 dt p_{10 {k-1 | k-1}} + p_{00 {k-1 | k-1}}} \\left(b_{{\\dot{\\psi}} {k-1 | k-1}} \\left(\\sigma_{q} + 4 \\sigma_{{b {\\dot{\\phi}}}} dt^{2} + \\sigma_{{m}} + 4 dt^{2} p_{11 {k-1 | k-1}} + 2 dt p_{01 {k-1 | k-1}} + 2 dt p_{10 {k-1 | k-1}} + p_{00 {k-1 | k-1}}\\right) - \\left(\\dot{\\psi}_{{k-1}} dt - \\psi_{m} + \\psi_{{k-1 | k-1}} + b_{{\\dot{\\psi}} {k-1 | k-1}} dt\\right) \\left(\\sigma_{{b {\\dot{\\phi}}}} dt + dt p_{11 {k-1 | k-1}} + dt \\left(\\sigma_{{b {\\dot{\\phi}}}} + p_{11 {k-1 | k-1}}\\right) + p_{10 {k-1 | k-1}}\\right)\\right)\\end{matrix}\\right]$$"
      ],
      "text/plain": [
       "⎡                                                                         ⎛   \n",
       "⎢(\\dot{\\psi}_{k-1}⋅dt + \\psi_{k-1 | k-1} + b_{\\dot{\\psi}}_{k-1 | k-1}⋅dt)⋅⎝\\si\n",
       "⎢─────────────────────────────────────────────────────────────────────────────\n",
       "⎢                                                                             \n",
       "⎢                                                                             \n",
       "⎢                                                                             \n",
       "⎢                                                                             \n",
       "⎢                                                                b_{\\dot{\\psi}\n",
       "⎢                                                                ─────────────\n",
       "⎢                                                                             \n",
       "⎣                                                                             \n",
       "\n",
       "                                    2                    2                    \n",
       "gma_q + 4⋅\\sigma_{b_{\\dot{\\phi}}}⋅dt  + \\sigma_{m} + 4⋅dt ⋅p_11_{k-1 | k-1} + \n",
       "──────────────────────────────────────────────────────────────────────────────\n",
       "                                                                              \n",
       "                                                                              \n",
       "                                                                              \n",
       "              ⎛                                       2                    2  \n",
       "}_{k-1 | k-1}⋅⎝\\sigma_q + 4⋅\\sigma_{b_{\\dot{\\phi}}}⋅dt  + \\sigma_{m} + 4⋅dt ⋅p\n",
       "──────────────────────────────────────────────────────────────────────────────\n",
       "                                                                              \n",
       "                                                                              \n",
       "\n",
       "                                                                ⎞             \n",
       "2⋅dt⋅p_01_{k-1 | k-1} + 2⋅dt⋅p_10_{k-1 | k-1} + p_00_{k-1 | k-1}⎠ - (\\dot{\\psi\n",
       "──────────────────────────────────────────────────────────────────────────────\n",
       "                                                                 2            \n",
       "                          \\sigma_q + 4⋅\\sigma_{b_{\\dot{\\phi}}}⋅dt  + \\sigma_{m\n",
       "                                                                              \n",
       "                                                                              \n",
       "_11_{k-1 | k-1} + 2⋅dt⋅p_01_{k-1 | k-1} + 2⋅dt⋅p_10_{k-1 | k-1} + p_00_{k-1 | \n",
       "──────────────────────────────────────────────────────────────────────────────\n",
       "                                                                2             \n",
       "                         \\sigma_q + 4⋅\\sigma_{b_{\\dot{\\phi}}}⋅dt  + \\sigma_{m}\n",
       "\n",
       "                                                                        ⎛     \n",
       "}_{k-1}⋅dt - \\psi_m + \\psi_{k-1 | k-1} + b_{\\dot{\\psi}}_{k-1 | k-1}⋅dt)⋅⎝\\sigm\n",
       "──────────────────────────────────────────────────────────────────────────────\n",
       "        2                                                                     \n",
       "} + 4⋅dt ⋅p_11_{k-1 | k-1} + 2⋅dt⋅p_01_{k-1 | k-1} + 2⋅dt⋅p_10_{k-1 | k-1} + p\n",
       "                                                                              \n",
       "    ⎞                                                                         \n",
       "k-1}⎠ - (\\dot{\\psi}_{k-1}⋅dt - \\psi_m + \\psi_{k-1 | k-1} + b_{\\dot{\\psi}}_{k-1\n",
       "──────────────────────────────────────────────────────────────────────────────\n",
       "       2                                                                      \n",
       " + 4⋅dt ⋅p_11_{k-1 | k-1} + 2⋅dt⋅p_01_{k-1 | k-1} + 2⋅dt⋅p_10_{k-1 | k-1} + p_\n",
       "\n",
       "                                2                                             \n",
       "a_q + \\sigma_{b_{\\dot{\\phi}}}⋅dt  + dt⋅p_10_{k-1 | k-1} + dt⋅(dt⋅p_11_{k-1 | k\n",
       "──────────────────────────────────────────────────────────────────────────────\n",
       "                                                                              \n",
       "_00_{k-1 | k-1}                                                               \n",
       "                                                                              \n",
       "                                                                              \n",
       " | k-1}⋅dt)⋅(\\sigma_{b_{\\dot{\\phi}}}⋅dt + dt⋅p_11_{k-1 | k-1} + dt⋅(\\sigma_{b_\n",
       "──────────────────────────────────────────────────────────────────────────────\n",
       "                                                                              \n",
       "00_{k-1 | k-1}                                                                \n",
       "\n",
       "                                                                              \n",
       "-1} + p_01_{k-1 | k-1}) + dt⋅(\\sigma_{b_{\\dot{\\phi}}}⋅dt + dt⋅p_11_{k-1 | k-1}\n",
       "──────────────────────────────────────────────────────────────────────────────\n",
       "                                                                              \n",
       "                                                                              \n",
       "                                                                              \n",
       "                                                                              \n",
       "{\\dot{\\phi}}} + p_11_{k-1 | k-1}) + p_10_{k-1 | k-1})                         \n",
       "─────────────────────────────────────────────────────                         \n",
       "                                                                              \n",
       "                                                                              \n",
       "\n",
       "                                       ⎞⎤\n",
       " + p_01_{k-1 | k-1}) + p_00_{k-1 | k-1}⎠⎥\n",
       "────────────────────────────────────────⎥\n",
       "                                        ⎥\n",
       "                                        ⎥\n",
       "                                        ⎥\n",
       "                                        ⎥\n",
       "                                        ⎥\n",
       "                                        ⎥\n",
       "                                        ⎥\n",
       "                                        ⎦"
      ]
     },
     "execution_count": 53,
     "metadata": {},
     "output_type": "execute_result"
    }
   ],
   "source": [
    "x_k_k = x_k_k1 + K * y\n",
    "\n",
    "x_k_k.simplify()\n",
    "\n",
    "x_k_k"
   ]
  }
 ],
 "metadata": {
  "kernelspec": {
   "display_name": "Python 3",
   "language": "python",
   "name": "python3"
  },
  "language_info": {
   "codemirror_mode": {
    "name": "ipython",
    "version": 3
   },
   "file_extension": ".py",
   "mimetype": "text/x-python",
   "name": "python",
   "nbconvert_exporter": "python",
   "pygments_lexer": "ipython3",
   "version": "3.4.3"
  }
 },
 "nbformat": 4,
 "nbformat_minor": 0
}
