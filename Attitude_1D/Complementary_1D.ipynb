{
 "cells": [
  {
   "cell_type": "code",
   "execution_count": 3,
   "metadata": {
    "collapsed": false
   },
   "outputs": [
    {
     "name": "stdout",
     "output_type": "stream",
     "text": [
      "Populating the interactive namespace from numpy and matplotlib\n"
     ]
    }
   ],
   "source": [
    "%pylab inline\n",
    "import sympy as sp\n",
    "sp.init_printing()"
   ]
  },
  {
   "cell_type": "markdown",
   "metadata": {},
   "source": [
    "# Symbolic variables"
   ]
  },
  {
   "cell_type": "code",
   "execution_count": 8,
   "metadata": {
    "collapsed": false
   },
   "outputs": [],
   "source": [
    "\n",
    "dt        = sp.Symbol('dt')\n",
    "psi_k1_k1 = sp.Symbol('\\psi_{k-1 | k-1}') # roll prior\n",
    "psi_k_k1  = sp.Symbol('\\psi_{k   | k-1}') # roll predicted\n",
    "psi_k_k   = sp.Symbol('\\psi_{k   | k  }') # roll post\n",
    "d_psi     = sp.Symbol('\\dot{\\psi}_{k-1}') # roll rate\n",
    "psi_m     = sp.Symbol('\\psi_m')           # mesured roll\n",
    "\n",
    "tau       = sp.Symbol('\\\\tau')            # filter response time\n"
   ]
  },
  {
   "cell_type": "markdown",
   "metadata": {},
   "source": [
    "# Filter equations"
   ]
  },
  {
   "cell_type": "markdown",
   "metadata": {},
   "source": [
    "### State Prediction"
   ]
  },
  {
   "cell_type": "code",
   "execution_count": 11,
   "metadata": {
    "collapsed": false
   },
   "outputs": [
    {
     "data": {
      "image/png": "[encoded data removed]",
      "text/latex": [
       "$$\\dot{\\psi}_{{k-1}} dt + \\psi_{{k-1 | k-1}}$$"
      ],
      "text/plain": [
       "\\dot{\\psi}_{k-1}⋅dt + \\psi_{k-1 | k-1}"
      ]
     },
     "execution_count": 11,
     "metadata": {},
     "output_type": "execute_result"
    }
   ],
   "source": [
    "psi_k_k1 = psi_k1_k1 + d_psi * dt \n",
    "\n",
    "psi_k_k1"
   ]
  },
  {
   "cell_type": "markdown",
   "metadata": {},
   "source": [
    "### alpha"
   ]
  },
  {
   "cell_type": "code",
   "execution_count": 9,
   "metadata": {
    "collapsed": false
   },
   "outputs": [
    {
     "data": {
      "image/png": "[encoded data removed]",
      "text/latex": [
       "$$\\frac{\\tau}{\\tau + dt}$$"
      ],
      "text/plain": [
       "   \\tau  \n",
       "─────────\n",
       "\\tau + dt"
      ]
     },
     "execution_count": 9,
     "metadata": {},
     "output_type": "execute_result"
    }
   ],
   "source": [
    "alpha = tau / (tau + dt)\n",
    "\n",
    "alpha"
   ]
  },
  {
   "cell_type": "markdown",
   "metadata": {},
   "source": [
    "### State correction"
   ]
  },
  {
   "cell_type": "code",
   "execution_count": 12,
   "metadata": {
    "collapsed": false
   },
   "outputs": [
    {
     "data": {
      "image/png": "[encoded data removed]",
      "text/latex": [
       "$$\\psi_{m} \\left(- \\frac{\\tau}{\\tau + dt} + 1\\right) + \\frac{\\tau}{\\tau + dt} \\left(\\dot{\\psi}_{{k-1}} dt + \\psi_{{k-1 | k-1}}\\right)$$"
      ],
      "text/plain": [
       "       ⎛     \\tau      ⎞   \\tau⋅(\\dot{\\psi}_{k-1}⋅dt + \\psi_{k-1 | k-1})\n",
       "\\psi_m⋅⎜- ───────── + 1⎟ + ─────────────────────────────────────────────\n",
       "       ⎝  \\tau + dt    ⎠                     \\tau + dt                  "
      ]
     },
     "execution_count": 12,
     "metadata": {},
     "output_type": "execute_result"
    }
   ],
   "source": [
    "psi_k_k = alpha * psi_k_k1 + (1-alpha) * psi_m\n",
    "\n",
    "psi_k_k"
   ]
  },
  {
   "cell_type": "code",
   "execution_count": null,
   "metadata": {
    "collapsed": true
   },
   "outputs": [],
   "source": []
  }
 ],
 "metadata": {
  "kernelspec": {
   "display_name": "Python 3",
   "language": "python",
   "name": "python3"
  },
  "language_info": {
   "codemirror_mode": {
    "name": "ipython",
    "version": 3
   },
   "file_extension": ".py",
   "mimetype": "text/x-python",
   "name": "python",
   "nbconvert_exporter": "python",
   "pygments_lexer": "ipython3",
   "version": "3.4.3"
  }
 },
 "nbformat": 4,
 "nbformat_minor": 0
}
