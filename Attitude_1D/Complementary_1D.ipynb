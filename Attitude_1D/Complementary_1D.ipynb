{
 "cells": [
  {
   "cell_type": "code",
   "execution_count": 3,
   "metadata": {
    "collapsed": false
   },
   "outputs": [
    {
     "name": "stdout",
     "output_type": "stream",
     "text": [
      "Populating the interactive namespace from numpy and matplotlib\n"
     ]
    }
   ],
   "source": [
    "%pylab inline\n",
    "import sympy as sp\n",
    "sp.init_printing()"
   ]
  },
  {
   "cell_type": "markdown",
   "metadata": {},
   "source": [
    "# Symbolic variables"
   ]
  },
  {
   "cell_type": "code",
   "execution_count": 8,
   "metadata": {
    "collapsed": false
   },
   "outputs": [],
   "source": [
    "\n",
    "dt        = sp.Symbol('dt')\n",
    "psi_k1_k1 = sp.Symbol('\\psi_{k-1 | k-1}') # roll prior\n",
    "psi_k_k1  = sp.Symbol('\\psi_{k   | k-1}') # roll predicted\n",
    "psi_k_k   = sp.Symbol('\\psi_{k   | k  }') # roll post\n",
    "d_psi     = sp.Symbol('\\dot{\\psi}_{k-1}') # roll rate\n",
    "psi_m     = sp.Symbol('\\psi_m')           # mesured roll\n",
    "\n",
    "tau       = sp.Symbol('\\\\tau')            # filter response time\n"
   ]
  },
  {
   "cell_type": "markdown",
   "metadata": {},
   "source": [
    "# Filter equations"
   ]
  },
  {
   "cell_type": "markdown",
   "metadata": {},
   "source": [
    "### State Prediction"
   ]
  },
  {
   "cell_type": "code",
   "execution_count": 5,
   "metadata": {
    "collapsed": false
   },
   "outputs": [
    {
     "data": {
      "image/png": "[encoded data removed]",
      "text/latex": [
       "$$\\dot{\\psi}_{{k-1}} dt + \\psi_{{k-1 | k-1}}$$"
      ],
      "text/plain": [
       "\\dot{\\psi}_{k-1}⋅dt + \\psi_{k-1 | k-1}"
      ]
     },
     "execution_count": 5,
     "metadata": {},
     "output_type": "execute_result"
    }
   ],
   "source": [
    "psi_k_k1 = psi_k1_k1 + d_psi * dt \n",
    "\n",
    "psi_k_k1"
   ]
  },
  {
   "cell_type": "markdown",
   "metadata": {},
   "source": [
    "### alpha"
   ]
  },
  {
   "cell_type": "code",
   "execution_count": 9,
   "metadata": {
    "collapsed": false
   },
   "outputs": [
    {
     "data": {
      "image/png": "[encoded data removed]",
      "text/latex": [
       "$$\\frac{\\tau}{\\tau + dt}$$"
      ],
      "text/plain": [
       "   \\tau  \n",
       "─────────\n",
       "\\tau + dt"
      ]
     },
     "execution_count": 9,
     "metadata": {},
     "output_type": "execute_result"
    }
   ],
   "source": [
    "alpha = tau / (tau + dt)\n",
    "\n",
    "alpha"
   ]
  },
  {
   "cell_type": "markdown",
   "metadata": {},
   "source": [
    "### State correction"
   ]
  },
  {
   "cell_type": "code",
   "execution_count": 10,
   "metadata": {
    "collapsed": false
   },
   "outputs": [
    {
     "data": {
      "image/png": "[encoded data removed]",
      "text/latex": [
       "$$\\psi_{m} \\left(- \\frac{\\tau}{\\tau + dt} + 1\\right) + \\frac{\\psi_{{k   | k-1}} \\tau}{\\tau + dt}$$"
      ],
      "text/plain": [
       "       ⎛     \\tau      ⎞   \\psi_{k   | k-1}⋅\\tau\n",
       "\\psi_m⋅⎜- ───────── + 1⎟ + ─────────────────────\n",
       "       ⎝  \\tau + dt    ⎠         \\tau + dt      "
      ]
     },
     "execution_count": 10,
     "metadata": {},
     "output_type": "execute_result"
    }
   ],
   "source": [
    "psi_k_k = alpha * psi_k_k1 + (1-alpha) * psi_m\n",
    "\n",
    "psi_k_k"
   ]
  }
 ],
 "metadata": {
  "kernelspec": {
   "display_name": "Python 3",
   "language": "python",
   "name": "python3"
  },
  "language_info": {
   "codemirror_mode": {
    "name": "ipython",
    "version": 3
   },
   "file_extension": ".py",
   "mimetype": "text/x-python",
   "name": "python",
   "nbconvert_exporter": "python",
   "pygments_lexer": "ipython3",
   "version": "3.4.3"
  }
 },
 "nbformat": 4,
 "nbformat_minor": 0
}
