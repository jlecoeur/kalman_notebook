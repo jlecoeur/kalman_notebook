{
 "cells": [
  {
   "cell_type": "code",
   "execution_count": 3,
   "metadata": {
    "collapsed": false
   },
   "outputs": [
    {
     "name": "stdout",
     "output_type": "stream",
     "text": [
      "Populating the interactive namespace from numpy and matplotlib\n"
     ]
    }
   ],
   "source": [
    "%pylab inline\n",
    "import sympy as sp\n",
    "sp.init_printing()"
   ]
  },
  {
   "cell_type": "markdown",
   "metadata": {},
   "source": [
    "# Symbolic variables"
   ]
  },
  {
   "cell_type": "code",
   "execution_count": 321,
   "metadata": {
    "collapsed": false
   },
   "outputs": [],
   "source": [
    "\n",
    "dt        = sp.Symbol('dt')\n",
    "psi_k1_k1 = sp.Symbol('\\psi_{k-1 | k-1}') # roll prior\n",
    "psi_k_k1  = sp.Symbol('\\psi_{k   | k-1}') # roll predicted\n",
    "psi_k_k   = sp.Symbol('\\psi_{k   | k  }') # roll post\n",
    "d_psi     = sp.Symbol('\\dot{\\psi}_{k-1}') # roll rate\n",
    "psi_m     = sp.Symbol('\\psi_m')           # mesured roll\n"
   ]
  },
  {
   "cell_type": "markdown",
   "metadata": {},
   "source": [
    "### State"
   ]
  },
  {
   "cell_type": "code",
   "execution_count": 387,
   "metadata": {
    "collapsed": false
   },
   "outputs": [
    {
     "data": {
      "image/png": "[encoded data removed]",
      "text/latex": [
       "$$\\left[\\begin{matrix}\\psi_{{k   | k  }}\\end{matrix}\\right]$$"
      ],
      "text/plain": [
       "[\\psi_{k   | k  }]"
      ]
     },
     "execution_count": 387,
     "metadata": {},
     "output_type": "execute_result"
    }
   ],
   "source": [
    "\n",
    "x_k1_k1 = sp.Matrix([ psi_k1_k1 ]) # prior\n",
    "x_k_k1  = sp.Matrix([ psi_k_k1  ]) # predicted\n",
    "x_k_k   = sp.Matrix([ psi_k_k   ]) # post\n",
    "\n",
    "x_k_k"
   ]
  },
  {
   "cell_type": "markdown",
   "metadata": {},
   "source": [
    "### Measurement noise"
   ]
  },
  {
   "cell_type": "code",
   "execution_count": 388,
   "metadata": {
    "collapsed": false
   },
   "outputs": [
    {
     "data": {
      "image/png": "[encoded data removed]",
      "text/latex": [
       "$$\\left[\\begin{matrix}\\sigma_{{m}}\\end{matrix}\\right]$$"
      ],
      "text/plain": [
       "[\\sigma_{m}]"
      ]
     },
     "execution_count": 388,
     "metadata": {},
     "output_type": "execute_result"
    }
   ],
   "source": [
    "sigma = sp.Symbol('\\sigma_{m}')\n",
    "\n",
    "# Measurement noise covariance\n",
    "R = sigma * sp.eye(1)\n",
    "\n",
    "R"
   ]
  },
  {
   "cell_type": "markdown",
   "metadata": {},
   "source": [
    "### Measurement"
   ]
  },
  {
   "cell_type": "code",
   "execution_count": 389,
   "metadata": {
    "collapsed": false
   },
   "outputs": [
    {
     "data": {
      "image/png": "[encoded data removed]",
      "text/latex": [
       "$$\\left[\\begin{matrix}\\psi_{m}\\end{matrix}\\right]$$"
      ],
      "text/plain": [
       "[\\psi_m]"
      ]
     },
     "execution_count": 389,
     "metadata": {},
     "output_type": "execute_result"
    }
   ],
   "source": [
    "z_k = sp.Matrix([ psi_m ])\n",
    "\n",
    "z_k"
   ]
  },
  {
   "cell_type": "markdown",
   "metadata": {},
   "source": [
    "### Input"
   ]
  },
  {
   "cell_type": "code",
   "execution_count": 390,
   "metadata": {
    "collapsed": false
   },
   "outputs": [
    {
     "data": {
      "image/png": "[encoded data removed]",
      "text/latex": [
       "$$\\left[\\begin{matrix}\\dot{\\psi}_{{k-1}}\\end{matrix}\\right]$$"
      ],
      "text/plain": [
       "[\\dot{\\psi}_{k-1}]"
      ]
     },
     "execution_count": 390,
     "metadata": {},
     "output_type": "execute_result"
    }
   ],
   "source": [
    "u_k1    = sp.Matrix([ d_psi ])\n",
    "\n",
    "u_k1"
   ]
  },
  {
   "cell_type": "markdown",
   "metadata": {},
   "source": [
    "### State covariance matrix"
   ]
  },
  {
   "cell_type": "code",
   "execution_count": 392,
   "metadata": {
    "collapsed": false
   },
   "outputs": [
    {
     "data": {
      "image/png": "[encoded data removed]",
      "text/latex": [
       "$$\\left[\\begin{matrix}p_{{k   | k}}\\end{matrix}\\right]$$"
      ],
      "text/plain": [
       "[p_{k   | k}]"
      ]
     },
     "execution_count": 392,
     "metadata": {},
     "output_type": "execute_result"
    }
   ],
   "source": [
    "P_k1_k1 = sp.Matrix([ sp.Symbol('p_{k-1 | k-1}') ])\n",
    "P_k_k1  = sp.Matrix([ sp.Symbol('p_{k   | k-1}') ])\n",
    "P_k_k   = sp.Matrix([ sp.Symbol('p_{k   | k}') ])\n",
    "\n",
    "P_k_k"
   ]
  },
  {
   "cell_type": "markdown",
   "metadata": {},
   "source": [
    "### Process noise covariance"
   ]
  },
  {
   "cell_type": "code",
   "execution_count": 393,
   "metadata": {
    "collapsed": false
   },
   "outputs": [
    {
     "data": {
      "image/png": "[encoded data removed]",
      "text/latex": [
       "$$\\left[\\begin{matrix}q\\end{matrix}\\right]$$"
      ],
      "text/plain": [
       "[q]"
      ]
     },
     "execution_count": 393,
     "metadata": {},
     "output_type": "execute_result"
    }
   ],
   "source": [
    "Q = sp.Matrix([ sp.Symbol('q') ])\n",
    "\n",
    "Q"
   ]
  },
  {
   "cell_type": "markdown",
   "metadata": {},
   "source": [
    "---"
   ]
  },
  {
   "cell_type": "markdown",
   "metadata": {},
   "source": [
    "---"
   ]
  },
  {
   "cell_type": "markdown",
   "metadata": {},
   "source": [
    "# Kalman formulas"
   ]
  },
  {
   "cell_type": "markdown",
   "metadata": {},
   "source": [
    "### State Prediction"
   ]
  },
  {
   "cell_type": "code",
   "execution_count": 394,
   "metadata": {
    "collapsed": false
   },
   "outputs": [
    {
     "data": {
      "image/png": "[encoded data removed]",
      "text/latex": [
       "$$\\left[\\begin{matrix}\\dot{\\psi}_{{k-1}} dt + \\psi_{{k-1 | k-1}}\\end{matrix}\\right]$$"
      ],
      "text/plain": [
       "[\\dot{\\psi}_{k-1}⋅dt + \\psi_{k-1 | k-1}]"
      ]
     },
     "execution_count": 394,
     "metadata": {},
     "output_type": "execute_result"
    }
   ],
   "source": [
    "def f(x, u, dt):\n",
    "    return x + dt*u\n",
    "\n",
    "x_k_k1 = f( x_k1_k1, u_k1, dt )\n",
    "\n",
    "x_k_k1"
   ]
  },
  {
   "cell_type": "markdown",
   "metadata": {},
   "source": [
    "### Jacobian of State Prediction"
   ]
  },
  {
   "cell_type": "code",
   "execution_count": 323,
   "metadata": {
    "collapsed": false
   },
   "outputs": [
    {
     "data": {
      "image/png": "[encoded data removed]",
      "text/latex": [
       "$$\\left[\\begin{matrix}1\\end{matrix}\\right]$$"
      ],
      "text/plain": [
       "[1]"
      ]
     },
     "execution_count": 323,
     "metadata": {},
     "output_type": "execute_result"
    }
   ],
   "source": [
    "F = f( x_k1_k1, u_k1, dt ).jacobian( x_k1_k1 )\n",
    "\n",
    "F"
   ]
  },
  {
   "cell_type": "markdown",
   "metadata": {},
   "source": [
    "### State Covariance prediction"
   ]
  },
  {
   "cell_type": "code",
   "execution_count": 324,
   "metadata": {
    "collapsed": false
   },
   "outputs": [
    {
     "data": {
      "image/png": "[encoded data removed]",
      "text/latex": [
       "$$\\left[\\begin{matrix}p_{{k-1 | k-1}} + q\\end{matrix}\\right]$$"
      ],
      "text/plain": [
       "[p_{k-1 | k-1} + q]"
      ]
     },
     "execution_count": 324,
     "metadata": {},
     "output_type": "execute_result"
    }
   ],
   "source": [
    "P_k_k1 = F * P_k1_k1 * F.T + Q\n",
    "\n",
    "P_k_k1"
   ]
  },
  {
   "cell_type": "markdown",
   "metadata": {},
   "source": [
    "### Observation fonction"
   ]
  },
  {
   "cell_type": "code",
   "execution_count": 338,
   "metadata": {
    "collapsed": false
   },
   "outputs": [
    {
     "data": {
      "image/png": "[encoded data removed]",
      "text/latex": [
       "$$\\left[\\begin{matrix}\\dot{\\psi}_{{k-1}} dt + \\psi_{{k-1 | k-1}}\\end{matrix}\\right]$$"
      ],
      "text/plain": [
       "[\\dot{\\psi}_{k-1}⋅dt + \\psi_{k-1 | k-1}]"
      ]
     },
     "execution_count": 338,
     "metadata": {},
     "output_type": "execute_result"
    }
   ],
   "source": [
    "def h(x):\n",
    "    return x\n",
    "\n",
    "h(x_k_k1)"
   ]
  },
  {
   "cell_type": "markdown",
   "metadata": {},
   "source": [
    "### Jacobian of observation function"
   ]
  },
  {
   "cell_type": "code",
   "execution_count": 339,
   "metadata": {
    "collapsed": false
   },
   "outputs": [
    {
     "data": {
      "image/png": "[encoded data removed]",
      "text/latex": [
       "$$\\left[\\begin{matrix}1\\end{matrix}\\right]$$"
      ],
      "text/plain": [
       "[1]"
      ]
     },
     "execution_count": 339,
     "metadata": {},
     "output_type": "execute_result"
    }
   ],
   "source": [
    "H = h(x_k_k1).jacobian(x_k1_k1)\n",
    "\n",
    "H"
   ]
  },
  {
   "cell_type": "markdown",
   "metadata": {},
   "source": [
    "### Innovation"
   ]
  },
  {
   "cell_type": "code",
   "execution_count": 328,
   "metadata": {
    "collapsed": false
   },
   "outputs": [
    {
     "data": {
      "image/png": "[encoded data removed]",
      "text/latex": [
       "$$\\left[\\begin{matrix}- \\dot{\\psi}_{{k-1}} dt + \\psi_{m} - \\psi_{{k-1 | k-1}}\\end{matrix}\\right]$$"
      ],
      "text/plain": [
       "[-\\dot{\\psi}_{k-1}⋅dt + \\psi_m - \\psi_{k-1 | k-1}]"
      ]
     },
     "execution_count": 328,
     "metadata": {},
     "output_type": "execute_result"
    }
   ],
   "source": [
    "y = z_k - h(x_k_k1)\n",
    "\n",
    "y"
   ]
  },
  {
   "cell_type": "markdown",
   "metadata": {},
   "source": [
    "### Innovation covariance"
   ]
  },
  {
   "cell_type": "code",
   "execution_count": 329,
   "metadata": {
    "collapsed": false
   },
   "outputs": [
    {
     "data": {
      "image/png": "[encoded data removed]",
      "text/latex": [
       "$$\\left[\\begin{matrix}\\sigma_{{m}} + p_{{k-1 | k-1}} + q\\end{matrix}\\right]$$"
      ],
      "text/plain": [
       "[\\sigma_{m} + p_{k-1 | k-1} + q]"
      ]
     },
     "execution_count": 329,
     "metadata": {},
     "output_type": "execute_result"
    }
   ],
   "source": [
    "S = H * P_k_k1 * H.T + R\n",
    "\n",
    "S"
   ]
  },
  {
   "cell_type": "markdown",
   "metadata": {},
   "source": [
    "### Kalman gain"
   ]
  },
  {
   "cell_type": "code",
   "execution_count": 330,
   "metadata": {
    "collapsed": false
   },
   "outputs": [
    {
     "data": {
      "image/png": "[encoded data removed]",
      "text/latex": [
       "$$\\left[\\begin{matrix}\\frac{p_{{k-1 | k-1}} + q}{\\sigma_{{m}} + p_{{k-1 | k-1}} + q}\\end{matrix}\\right]$$"
      ],
      "text/plain": [
       "⎡      p_{k-1 | k-1} + q       ⎤\n",
       "⎢──────────────────────────────⎥\n",
       "⎣\\sigma_{m} + p_{k-1 | k-1} + q⎦"
      ]
     },
     "execution_count": 330,
     "metadata": {},
     "output_type": "execute_result"
    }
   ],
   "source": [
    "K = P_k_k1 * H.T * S**(-1)\n",
    "\n",
    "K"
   ]
  },
  {
   "cell_type": "markdown",
   "metadata": {},
   "source": [
    "### State Covariance update"
   ]
  },
  {
   "cell_type": "code",
   "execution_count": 352,
   "metadata": {
    "collapsed": false
   },
   "outputs": [
    {
     "data": {
      "image/png": "[encoded data removed]",
      "text/latex": [
       "$$\\frac{\\sigma_{{m}} \\left(p_{{k-1 | k-1}} + q\\right)}{\\sigma_{{m}} + p_{{k-1 | k-1}} + q}$$"
      ],
      "text/plain": [
       "\\sigma_{m}⋅(p_{k-1 | k-1} + q)\n",
       "──────────────────────────────\n",
       "\\sigma_{m} + p_{k-1 | k-1} + q"
      ]
     },
     "execution_count": 352,
     "metadata": {},
     "output_type": "execute_result"
    }
   ],
   "source": [
    "P_k_k = (sp.eye(1) - K * H) * P_k_k1\n",
    "\n",
    "P_k_k[0].simplify()"
   ]
  },
  {
   "cell_type": "markdown",
   "metadata": {},
   "source": [
    "### State update"
   ]
  },
  {
   "cell_type": "code",
   "execution_count": 386,
   "metadata": {
    "collapsed": false
   },
   "outputs": [
    {
     "data": {
      "image/png": "[encoded data removed]",
      "text/latex": [
       "$$\\dot{\\psi}_{{k-1}} dt + \\psi_{{k-1 | k-1}} + \\frac{\\left(p_{{k-1 | k-1}} + q\\right) \\left(- \\dot{\\psi}_{{k-1}} dt + \\psi_{m} - \\psi_{{k-1 | k-1}}\\right)}{\\sigma_{{m}} + p_{{k-1 | k-1}} + q}$$"
      ],
      "text/plain": [
       "                                         (p_{k-1 | k-1} + q)⋅(-\\dot{\\psi}_{k-1\n",
       "\\dot{\\psi}_{k-1}⋅dt + \\psi_{k-1 | k-1} + ─────────────────────────────────────\n",
       "                                                             \\sigma_{m} + p_{k\n",
       "\n",
       "}⋅dt + \\psi_m - \\psi_{k-1 | k-1})\n",
       "─────────────────────────────────\n",
       "-1 | k-1} + q                    "
      ]
     },
     "execution_count": 386,
     "metadata": {},
     "output_type": "execute_result"
    }
   ],
   "source": [
    "x_k_k = x_k_k1 + K * y\n",
    "\n",
    "x_k_k[0]"
   ]
  },
  {
   "cell_type": "code",
   "execution_count": 384,
   "metadata": {
    "collapsed": false
   },
   "outputs": [
    {
     "data": {
      "image/png": "[encoded data removed]",
      "text/latex": [
       "$$\\frac{\\psi_{m} \\left(p_{{k-1 | k-1}} + q\\right) + \\sigma_{{m}} \\left(\\dot{\\psi}_{{k-1}} dt + \\psi_{{k-1 | k-1}}\\right)}{\\sigma_{{m}} + p_{{k-1 | k-1}} + q}$$"
      ],
      "text/plain": [
       "\\psi_m⋅(p_{k-1 | k-1} + q) + \\sigma_{m}⋅(\\dot{\\psi}_{k-1}⋅dt + \\psi_{k-1 | k-1\n",
       "──────────────────────────────────────────────────────────────────────────────\n",
       "                         \\sigma_{m} + p_{k-1 | k-1} + q                       \n",
       "\n",
       "})\n",
       "──\n",
       "  "
      ]
     },
     "execution_count": 384,
     "metadata": {},
     "output_type": "execute_result"
    }
   ],
   "source": [
    "# by reordering the terms, we see that the 1D kalman is equivalent to the complementary filter\n",
    "x_k_k[0].expand().factor([psi_m, sigma])"
   ]
  },
  {
   "cell_type": "code",
   "execution_count": null,
   "metadata": {
    "collapsed": true
   },
   "outputs": [],
   "source": []
  }
 ],
 "metadata": {
  "kernelspec": {
   "display_name": "Python 3",
   "language": "python",
   "name": "python3"
  },
  "language_info": {
   "codemirror_mode": {
    "name": "ipython",
    "version": 3
   },
   "file_extension": ".py",
   "mimetype": "text/x-python",
   "name": "python",
   "nbconvert_exporter": "python",
   "pygments_lexer": "ipython3",
   "version": "3.4.3"
  }
 },
 "nbformat": 4,
 "nbformat_minor": 0
}
