{
 "metadata": {
  "name": "",
  "signature": "sha256:731bd152858d9e4c9db8b33d53745bc67e28c72fd42cfc158277dbb5bf7cfa3e"
 },
 "nbformat": 3,
 "nbformat_minor": 0,
 "worksheets": [
  {
   "cells": [
    {
     "cell_type": "code",
     "collapsed": false,
     "input": [
      "import numpy as np\n",
      "import matplotlib.pyplot as plt\n",
      "from scipy.stats import norm\n",
      "%pylab inline --no-import-all\n",
      "from sympy import Symbol, Matrix, eye, latex\n",
      "from sympy.interactive import printing\n",
      "printing.init_printing()"
     ],
     "language": "python",
     "metadata": {
      "slideshow": {
       "slide_type": "-"
      }
     },
     "outputs": [
      {
       "output_type": "stream",
       "stream": "stdout",
       "text": [
        "Populating the interactive namespace from numpy and matplotlib\n"
       ]
      }
     ],
     "prompt_number": 2
    },
    {
     "cell_type": "markdown",
     "metadata": {},
     "source": [
      "---"
     ]
    },
    {
     "cell_type": "code",
     "collapsed": false,
     "input": [
      "def get_matrix(name='M', n=3, m=3):\n",
      "    if n <= 1:\n",
      "        return Matrix([[Symbol(name + '_{ ' + str(i) + '}' ) for i in range(m)]])\n",
      "    elif m <= 1:\n",
      "        return Matrix([[Symbol(name + '_{ ' + str(j) + '}' ) ] for j in range(n)])\n",
      "    else:\n",
      "        return Matrix([[Symbol(name + '_{ ' + str(i) + str(j) + '}' ) for j in range(m)] for i in range(n)])"
     ],
     "language": "python",
     "metadata": {},
     "outputs": [],
     "prompt_number": 3
    },
    {
     "cell_type": "heading",
     "level": 1,
     "metadata": {},
     "source": [
      "Kalman Sympy"
     ]
    },
    {
     "cell_type": "heading",
     "level": 2,
     "metadata": {},
     "source": [
      "Dimensions"
     ]
    },
    {
     "cell_type": "code",
     "collapsed": false,
     "input": [
      "# State\n",
      "n = 3\n",
      "\n",
      "# Inputs\n",
      "p = 1\n",
      "\n",
      "# Measurement\n",
      "m = 1"
     ],
     "language": "python",
     "metadata": {},
     "outputs": [],
     "prompt_number": 4
    },
    {
     "cell_type": "heading",
     "level": 2,
     "metadata": {},
     "source": [
      "Matrices"
     ]
    },
    {
     "cell_type": "heading",
     "level": 3,
     "metadata": {},
     "source": [
      "State $x$"
     ]
    },
    {
     "cell_type": "code",
     "collapsed": false,
     "input": [
      "x = get_matrix('x', n, 1)\n",
      "x"
     ],
     "language": "python",
     "metadata": {},
     "outputs": [
      {
       "latex": [
        "$$\\left[\\begin{matrix}x_{{ 0}}\\\\x_{{ 1}}\\\\x_{{ 2}}\\end{matrix}\\right]$$"
       ],
       "metadata": {},
       "output_type": "pyout",
       "png": "[encoded data removed]",
       "prompt_number": 5,
       "text": [
        "\u23a1x_{ 0}\u23a4\n",
        "\u23a2      \u23a5\n",
        "\u23a2x_{ 1}\u23a5\n",
        "\u23a2      \u23a5\n",
        "\u23a3x_{ 2}\u23a6"
       ]
      }
     ],
     "prompt_number": 5
    },
    {
     "cell_type": "heading",
     "level": 3,
     "metadata": {},
     "source": [
      "Input $u$"
     ]
    },
    {
     "cell_type": "code",
     "collapsed": false,
     "input": [
      "u = get_matrix('u', p, 1)\n",
      "u"
     ],
     "language": "python",
     "metadata": {},
     "outputs": [
      {
       "latex": [
        "$$\\left[\\begin{matrix}u_{{ 0}}\\end{matrix}\\right]$$"
       ],
       "metadata": {},
       "output_type": "pyout",
       "png": "[encoded data removed]",
       "prompt_number": 6,
       "text": [
        "[u_{ 0}]"
       ]
      }
     ],
     "prompt_number": 6
    },
    {
     "cell_type": "heading",
     "level": 3,
     "metadata": {},
     "source": [
      "Measure $z$"
     ]
    },
    {
     "cell_type": "code",
     "collapsed": false,
     "input": [
      "z = get_matrix('z', m, 1)\n",
      "z"
     ],
     "language": "python",
     "metadata": {},
     "outputs": [
      {
       "latex": [
        "$$\\left[\\begin{matrix}z_{{ 0}}\\end{matrix}\\right]$$"
       ],
       "metadata": {},
       "output_type": "pyout",
       "png": "[encoded data removed]",
       "prompt_number": 7,
       "text": [
        "[z_{ 0}]"
       ]
      }
     ],
     "prompt_number": 7
    },
    {
     "cell_type": "heading",
     "level": 3,
     "metadata": {},
     "source": [
      "Model matrix $A$ "
     ]
    },
    {
     "cell_type": "code",
     "collapsed": false,
     "input": [
      "A = get_matrix('A', n, n)\n",
      "A"
     ],
     "language": "python",
     "metadata": {},
     "outputs": [
      {
       "latex": [
        "$$\\left[\\begin{matrix}A_{{ 00}} & A_{{ 01}} & A_{{ 02}}\\\\A_{{ 10}} & A_{{ 11}} & A_{{ 12}}\\\\A_{{ 20}} & A_{{ 21}} & A_{{ 22}}\\end{matrix}\\right]$$"
       ],
       "metadata": {},
       "output_type": "pyout",
       "png": "[encoded data removed]",
       "prompt_number": 8,
       "text": [
        "\u23a1A_{ 00}  A_{ 01}  A_{ 02}\u23a4\n",
        "\u23a2                         \u23a5\n",
        "\u23a2A_{ 10}  A_{ 11}  A_{ 12}\u23a5\n",
        "\u23a2                         \u23a5\n",
        "\u23a3A_{ 20}  A_{ 21}  A_{ 22}\u23a6"
       ]
      }
     ],
     "prompt_number": 8
    },
    {
     "cell_type": "heading",
     "level": 3,
     "metadata": {},
     "source": [
      "Input matrix $B$"
     ]
    },
    {
     "cell_type": "code",
     "collapsed": false,
     "input": [
      "B = get_matrix('B', n, p)\n",
      "B"
     ],
     "language": "python",
     "metadata": {},
     "outputs": [
      {
       "latex": [
        "$$\\left[\\begin{matrix}B_{{ 0}}\\\\B_{{ 1}}\\\\B_{{ 2}}\\end{matrix}\\right]$$"
       ],
       "metadata": {},
       "output_type": "pyout",
       "png": "[encoded data removed]",
       "prompt_number": 9,
       "text": [
        "\u23a1B_{ 0}\u23a4\n",
        "\u23a2      \u23a5\n",
        "\u23a2B_{ 1}\u23a5\n",
        "\u23a2      \u23a5\n",
        "\u23a3B_{ 2}\u23a6"
       ]
      }
     ],
     "prompt_number": 9
    },
    {
     "cell_type": "heading",
     "level": 3,
     "metadata": {},
     "source": [
      "Measurement matrix $H$"
     ]
    },
    {
     "cell_type": "code",
     "collapsed": false,
     "input": [
      "H = get_matrix('H', m, n)\n",
      "H"
     ],
     "language": "python",
     "metadata": {},
     "outputs": [
      {
       "latex": [
        "$$\\left[\\begin{matrix}H_{{ 0}} & H_{{ 1}} & H_{{ 2}}\\end{matrix}\\right]$$"
       ],
       "metadata": {},
       "output_type": "pyout",
       "png": "[encoded data removed]",
       "prompt_number": 10,
       "text": [
        "[H_{ 0}  H_{ 1}  H_{ 2}]"
       ]
      }
     ],
     "prompt_number": 10
    },
    {
     "cell_type": "heading",
     "level": 3,
     "metadata": {},
     "source": [
      "Process noise covariance $Q$"
     ]
    },
    {
     "cell_type": "code",
     "collapsed": false,
     "input": [
      "Q = get_matrix('Q', n, n)\n",
      "Q"
     ],
     "language": "python",
     "metadata": {},
     "outputs": [
      {
       "latex": [
        "$$\\left[\\begin{matrix}Q_{{ 00}} & Q_{{ 01}} & Q_{{ 02}}\\\\Q_{{ 10}} & Q_{{ 11}} & Q_{{ 12}}\\\\Q_{{ 20}} & Q_{{ 21}} & Q_{{ 22}}\\end{matrix}\\right]$$"
       ],
       "metadata": {},
       "output_type": "pyout",
       "png": "[encoded data removed]",
       "prompt_number": 11,
       "text": [
        "\u23a1Q_{ 00}  Q_{ 01}  Q_{ 02}\u23a4\n",
        "\u23a2                         \u23a5\n",
        "\u23a2Q_{ 10}  Q_{ 11}  Q_{ 12}\u23a5\n",
        "\u23a2                         \u23a5\n",
        "\u23a3Q_{ 20}  Q_{ 21}  Q_{ 22}\u23a6"
       ]
      }
     ],
     "prompt_number": 11
    },
    {
     "cell_type": "heading",
     "level": 3,
     "metadata": {},
     "source": [
      "Measurement noise covariance $R$"
     ]
    },
    {
     "cell_type": "code",
     "collapsed": false,
     "input": [
      "R = get_matrix('R', m, m)\n",
      "R"
     ],
     "language": "python",
     "metadata": {},
     "outputs": [
      {
       "latex": [
        "$$\\left[\\begin{matrix}R_{{ 0}}\\end{matrix}\\right]$$"
       ],
       "metadata": {},
       "output_type": "pyout",
       "png": "[encoded data removed]",
       "prompt_number": 12,
       "text": [
        "[R_{ 0}]"
       ]
      }
     ],
     "prompt_number": 12
    },
    {
     "cell_type": "heading",
     "level": 3,
     "metadata": {},
     "source": [
      "Covariance matrix $P$"
     ]
    },
    {
     "cell_type": "code",
     "collapsed": false,
     "input": [
      "P = get_matrix('P', n, n)\n",
      "P"
     ],
     "language": "python",
     "metadata": {},
     "outputs": [
      {
       "latex": [
        "$$\\left[\\begin{matrix}P_{{ 00}} & P_{{ 01}} & P_{{ 02}}\\\\P_{{ 10}} & P_{{ 11}} & P_{{ 12}}\\\\P_{{ 20}} & P_{{ 21}} & P_{{ 22}}\\end{matrix}\\right]$$"
       ],
       "metadata": {},
       "output_type": "pyout",
       "png": "[encoded data removed]",
       "prompt_number": 13,
       "text": [
        "\u23a1P_{ 00}  P_{ 01}  P_{ 02}\u23a4\n",
        "\u23a2                         \u23a5\n",
        "\u23a2P_{ 10}  P_{ 11}  P_{ 12}\u23a5\n",
        "\u23a2                         \u23a5\n",
        "\u23a3P_{ 20}  P_{ 21}  P_{ 22}\u23a6"
       ]
      }
     ],
     "prompt_number": 13
    },
    {
     "cell_type": "markdown",
     "metadata": {},
     "source": [
      "---"
     ]
    },
    {
     "cell_type": "heading",
     "level": 1,
     "metadata": {},
     "source": [
      "Modify matrices to fit application and simplify results"
     ]
    },
    {
     "cell_type": "code",
     "collapsed": false,
     "input": [
      "# Model\n",
      "dt = Symbol('\\Delta t')\n",
      "A[0,0] = 1\n",
      "A[0,1] = dt\n",
      "A[0,2] = 0.5*dt**2\n",
      "A[1,0] = 0\n",
      "A[1,1] = 1\n",
      "A[1,2] = dt\n",
      "A[2,0] = 0\n",
      "A[2,1] = 0\n",
      "A[2,2] = 1\n",
      "A"
     ],
     "language": "python",
     "metadata": {},
     "outputs": [
      {
       "latex": [
        "$$\\left[\\begin{matrix}1 & \\Delta t & 0.5 \\Delta t^{2}\\\\0 & 1 & \\Delta t\\\\0 & 0 & 1\\end{matrix}\\right]$$"
       ],
       "metadata": {},
       "output_type": "pyout",
       "png": "[encoded data removed]",
       "prompt_number": 14,
       "text": [
        "\u23a1                         2\u23a4\n",
        "\u23a21  \\Delta t  0.5\u22c5\\Delta t \u23a5\n",
        "\u23a2                          \u23a5\n",
        "\u23a20     1        \\Delta t   \u23a5\n",
        "\u23a2                          \u23a5\n",
        "\u23a30     0            1      \u23a6"
       ]
      }
     ],
     "prompt_number": 14
    },
    {
     "cell_type": "code",
     "collapsed": false,
     "input": [
      "# Input\n",
      "B[0,0] = 0.5*dt**2\n",
      "B[1,0] = dt\n",
      "B[2,0] = 0\n",
      "B"
     ],
     "language": "python",
     "metadata": {},
     "outputs": [
      {
       "latex": [
        "$$\\left[\\begin{matrix}0.5 \\Delta t^{2}\\\\\\Delta t\\\\0\\end{matrix}\\right]$$"
       ],
       "metadata": {},
       "output_type": "pyout",
       "png": "[encoded data removed]",
       "prompt_number": 15,
       "text": [
        "\u23a1            2\u23a4\n",
        "\u23a20.5\u22c5\\Delta t \u23a5\n",
        "\u23a2             \u23a5\n",
        "\u23a2  \\Delta t   \u23a5\n",
        "\u23a2             \u23a5\n",
        "\u23a3      0      \u23a6"
       ]
      }
     ],
     "prompt_number": 15
    },
    {
     "cell_type": "code",
     "collapsed": false,
     "input": [
      "# Measurement\n",
      "H[0,0] = 1\n",
      "H[0,1] = 0\n",
      "H[0,2] = 0\n",
      "# H[1,0] = 1\n",
      "# H[1,1] = 0\n",
      "# H[1,2] = 0\n",
      "# H[2,0] = 1\n",
      "# H[2,1] = 0\n",
      "# H[2,2] = 0\n",
      "H"
     ],
     "language": "python",
     "metadata": {},
     "outputs": [
      {
       "latex": [
        "$$\\left[\\begin{matrix}1 & 0 & 0\\end{matrix}\\right]$$"
       ],
       "metadata": {},
       "output_type": "pyout",
       "png": "[encoded data removed]",
       "prompt_number": 16,
       "text": [
        "[1  0  0]"
       ]
      }
     ],
     "prompt_number": 16
    },
    {
     "cell_type": "code",
     "collapsed": false,
     "input": [
      "# Process covariance\n",
      "s1 = Symbol('\\sigma_{proc}')\n",
      "v = Matrix([[0.5*dt**2], [dt], [1]])\n",
      "Q = v*v.T*s1**2\n",
      "Q"
     ],
     "language": "python",
     "metadata": {},
     "outputs": [
      {
       "latex": [
        "$$\\left[\\begin{matrix}0.25 \\Delta t^{4} \\sigma_{{proc}}^{2} & 0.5 \\Delta t^{3} \\sigma_{{proc}}^{2} & 0.5 \\Delta t^{2} \\sigma_{{proc}}^{2}\\\\0.5 \\Delta t^{3} \\sigma_{{proc}}^{2} & \\Delta t^{2} \\sigma_{{proc}}^{2} & \\Delta t \\sigma_{{proc}}^{2}\\\\0.5 \\Delta t^{2} \\sigma_{{proc}}^{2} & \\Delta t \\sigma_{{proc}}^{2} & \\sigma_{{proc}}^{2}\\end{matrix}\\right]$$"
       ],
       "metadata": {},
       "output_type": "pyout",
       "png": "[encoded data removed]",
       "prompt_number": 17,
       "text": [
        "\u23a1             4              2              3              2              2   \n",
        "\u23a20.25\u22c5\\Delta t \u22c5\\sigma_{proc}   0.5\u22c5\\Delta t \u22c5\\sigma_{proc}   0.5\u22c5\\Delta t \u22c5\\s\n",
        "\u23a2                                                                             \n",
        "\u23a2            3              2             2              2                    \n",
        "\u23a20.5\u22c5\\Delta t \u22c5\\sigma_{proc}      \\Delta t \u22c5\\sigma_{proc}       \\Delta t\u22c5\\sigm\n",
        "\u23a2                                                                             \n",
        "\u23a2            2              2                           2                     \n",
        "\u23a30.5\u22c5\\Delta t \u22c5\\sigma_{proc}      \\Delta t\u22c5\\sigma_{proc}             \\sigma_{p\n",
        "\n",
        "           2\u23a4\n",
        "igma_{proc} \u23a5\n",
        "            \u23a5\n",
        "        2   \u23a5\n",
        "a_{proc}    \u23a5\n",
        "            \u23a5\n",
        "    2       \u23a5\n",
        "roc}        \u23a6"
       ]
      }
     ],
     "prompt_number": 17
    },
    {
     "cell_type": "code",
     "collapsed": false,
     "input": [
      "# Measurement covariance\n",
      "\n",
      "# remove non-diagonal terms\n",
      "for i in range(m):\n",
      "    for j in range(m):\n",
      "        if i!=j:\n",
      "            R[i, j] = 0\n",
      "            \n",
      "R"
     ],
     "language": "python",
     "metadata": {},
     "outputs": [
      {
       "latex": [
        "$$\\left[\\begin{matrix}R_{{ 0}}\\end{matrix}\\right]$$"
       ],
       "metadata": {},
       "output_type": "pyout",
       "png": "[encoded data removed]",
       "prompt_number": 18,
       "text": [
        "[R_{ 0}]"
       ]
      }
     ],
     "prompt_number": 18
    },
    {
     "cell_type": "markdown",
     "metadata": {},
     "source": [
      "---"
     ]
    },
    {
     "cell_type": "heading",
     "level": 1,
     "metadata": {},
     "source": [
      "Prediction equation"
     ]
    },
    {
     "cell_type": "markdown",
     "metadata": {},
     "source": [
      "$$ \\hat{x}_{k+1}^{-} = \\textbf{A} \\cdot \\hat{x}_{k} + \\textbf{B} \\cdot u_{k} $$"
     ]
    },
    {
     "cell_type": "code",
     "collapsed": false,
     "input": [
      "A*x + B*u"
     ],
     "language": "python",
     "metadata": {},
     "outputs": [
      {
       "latex": [
        "$$\\left[\\begin{matrix}0.5 \\Delta t^{2} u_{{ 0}} + 0.5 \\Delta t^{2} x_{{ 2}} + \\Delta t x_{{ 1}} + x_{{ 0}}\\\\\\Delta t u_{{ 0}} + \\Delta t x_{{ 2}} + x_{{ 1}}\\\\x_{{ 2}}\\end{matrix}\\right]$$"
       ],
       "metadata": {},
       "output_type": "pyout",
       "png": "[encoded data removed]",
       "prompt_number": 19,
       "text": [
        "\u23a1            2                      2                                  \u23a4\n",
        "\u23a20.5\u22c5\\Delta t \u22c5u_{ 0} + 0.5\u22c5\\Delta t \u22c5x_{ 2} + \\Delta t\u22c5x_{ 1} + x_{ 0}\u23a5\n",
        "\u23a2                                                                      \u23a5\n",
        "\u23a2              \\Delta t\u22c5u_{ 0} + \\Delta t\u22c5x_{ 2} + x_{ 1}              \u23a5\n",
        "\u23a2                                                                      \u23a5\n",
        "\u23a3                                x_{ 2}                                \u23a6"
       ]
      }
     ],
     "prompt_number": 19
    },
    {
     "cell_type": "markdown",
     "metadata": {},
     "source": [
      "$$ \\textbf{P}_{k+1}^{-} = \\textbf{A} \\cdot \\textbf{P}_k \\cdot \\textbf{A}^T + \\textbf{Q}$$"
     ]
    },
    {
     "cell_type": "code",
     "collapsed": false,
     "input": [
      "A*P*A.T + Q "
     ],
     "language": "python",
     "metadata": {},
     "outputs": [
      {
       "latex": [
        "$$\\left[\\begin{matrix}P_{{ 00}} + P_{{ 10}} \\Delta t + 0.5 P_{{ 20}} \\Delta t^{2} + 0.25 \\Delta t^{4} \\sigma_{{proc}}^{2} + 0.5 \\Delta t^{2} \\left(P_{{ 02}} + P_{{ 12}} \\Delta t + 0.5 P_{{ 22}} \\Delta t^{2}\\right) + \\Delta t \\left(P_{{ 01}} + P_{{ 11}} \\Delta t + 0.5 P_{{ 21}} \\Delta t^{2}\\right) & P_{{ 01}} + P_{{ 11}} \\Delta t + 0.5 P_{{ 21}} \\Delta t^{2} + 0.5 \\Delta t^{3} \\sigma_{{proc}}^{2} + \\Delta t \\left(P_{{ 02}} + P_{{ 12}} \\Delta t + 0.5 P_{{ 22}} \\Delta t^{2}\\right) & P_{{ 02}} + P_{{ 12}} \\Delta t + 0.5 P_{{ 22}} \\Delta t^{2} + 0.5 \\Delta t^{2} \\sigma_{{proc}}^{2}\\\\P_{{ 10}} + P_{{ 20}} \\Delta t + 0.5 \\Delta t^{3} \\sigma_{{proc}}^{2} + 0.5 \\Delta t^{2} \\left(P_{{ 12}} + P_{{ 22}} \\Delta t\\right) + \\Delta t \\left(P_{{ 11}} + P_{{ 21}} \\Delta t\\right) & P_{{ 11}} + P_{{ 21}} \\Delta t + \\Delta t^{2} \\sigma_{{proc}}^{2} + \\Delta t \\left(P_{{ 12}} + P_{{ 22}} \\Delta t\\right) & P_{{ 12}} + P_{{ 22}} \\Delta t + \\Delta t \\sigma_{{proc}}^{2}\\\\P_{{ 20}} + P_{{ 21}} \\Delta t + 0.5 P_{{ 22}} \\Delta t^{2} + 0.5 \\Delta t^{2} \\sigma_{{proc}}^{2} & P_{{ 21}} + P_{{ 22}} \\Delta t + \\Delta t \\sigma_{{proc}}^{2} & P_{{ 22}} + \\sigma_{{proc}}^{2}\\end{matrix}\\right]$$"
       ],
       "metadata": {},
       "output_type": "pyout",
       "png": "[encoded data removed]",
       "prompt_number": 20,
       "text": [
        "\u23a1                                                 2                4          \n",
        "\u23a2P_{ 00} + P_{ 10}\u22c5\\Delta t + 0.5\u22c5P_{ 20}\u22c5\\Delta t  + 0.25\u22c5\\Delta t \u22c5\\sigma_{p\n",
        "\u23a2                                                                             \n",
        "\u23a2                                                                             \n",
        "\u23a2                                    P_{ 10} + P_{ 20}\u22c5\\Delta t + 0.5\u22c5\\Delta t\n",
        "\u23a2                                                                             \n",
        "\u23a2                                                                             \n",
        "\u23a3                                                                   P_{ 20} + \n",
        "\n",
        "    2               2 \u239b                                                 2\u239e    \n",
        "roc}  + 0.5\u22c5\\Delta t \u22c5\u239dP_{ 02} + P_{ 12}\u22c5\\Delta t + 0.5\u22c5P_{ 22}\u22c5\\Delta t \u23a0 + \\\n",
        "                                                                              \n",
        "3              2               2                                              \n",
        " \u22c5\\sigma_{proc}  + 0.5\u22c5\\Delta t \u22c5(P_{ 12} + P_{ 22}\u22c5\\Delta t) + \\Delta t\u22c5(P_{ \n",
        "                                                                              \n",
        "                                       2               2              2       \n",
        "P_{ 21}\u22c5\\Delta t + 0.5\u22c5P_{ 22}\u22c5\\Delta t  + 0.5\u22c5\\Delta t \u22c5\\sigma_{proc}        \n",
        "\n",
        "        \u239b                                                 2\u239e                  \n",
        "Delta t\u22c5\u239dP_{ 01} + P_{ 11}\u22c5\\Delta t + 0.5\u22c5P_{ 21}\u22c5\\Delta t \u23a0  P_{ 01} + P_{ 11\n",
        "                                                                              \n",
        "                                                                              \n",
        "11} + P_{ 21}\u22c5\\Delta t)                                                       \n",
        "                                                                              \n",
        "                                                                              \n",
        "                                                                              \n",
        "\n",
        "                                 2               3              2            \u239b\n",
        "}\u22c5\\Delta t + 0.5\u22c5P_{ 21}\u22c5\\Delta t  + 0.5\u22c5\\Delta t \u22c5\\sigma_{proc}  + \\Delta t\u22c5\u239d\n",
        "                                                                              \n",
        "                                               2              2               \n",
        "          P_{ 11} + P_{ 21}\u22c5\\Delta t + \\Delta t \u22c5\\sigma_{proc}  + \\Delta t\u22c5(P_\n",
        "                                                                              \n",
        "                                                                              \n",
        "                              P_{ 21} + P_{ 22}\u22c5\\Delta t + \\Delta t\u22c5\\sigma_{pr\n",
        "\n",
        "                                                 2\u239e                           \n",
        "P_{ 02} + P_{ 12}\u22c5\\Delta t + 0.5\u22c5P_{ 22}\u22c5\\Delta t \u23a0  P_{ 02} + P_{ 12}\u22c5\\Delta \n",
        "                                                                              \n",
        "                                                                              \n",
        "{ 12} + P_{ 22}\u22c5\\Delta t)                                          P_{ 12} + P\n",
        "                                                                              \n",
        "   2                                                                          \n",
        "oc}                                                                           \n",
        "\n",
        "                        2               2              2\u23a4\n",
        "t + 0.5\u22c5P_{ 22}\u22c5\\Delta t  + 0.5\u22c5\\Delta t \u22c5\\sigma_{proc} \u23a5\n",
        "                                                        \u23a5\n",
        "                                        2               \u23a5\n",
        "_{ 22}\u22c5\\Delta t + \\Delta t\u22c5\\sigma_{proc}                \u23a5\n",
        "                                                        \u23a5\n",
        "                          2                             \u23a5\n",
        "   P_{ 22} + \\sigma_{proc}                              \u23a6"
       ]
      }
     ],
     "prompt_number": 20
    },
    {
     "cell_type": "heading",
     "level": 1,
     "metadata": {},
     "source": [
      "Correction equation"
     ]
    },
    {
     "cell_type": "markdown",
     "metadata": {},
     "source": [
      "$$ \\textbf{S} = \\textbf{H} \\cdot \\textbf{P}_{k+1}^{-} \\cdot \\textbf{H}^T + \\textbf{R} $$"
     ]
    },
    {
     "cell_type": "code",
     "collapsed": false,
     "input": [
      "S = H * P * H.T + R\n",
      "#print(S.shape)\n",
      "#S"
     ],
     "language": "python",
     "metadata": {},
     "outputs": [],
     "prompt_number": 21
    },
    {
     "cell_type": "markdown",
     "metadata": {},
     "source": [
      "$$ \\textbf{K} = ( \\textbf{P}_{k+1}^{-} \\cdot \\textbf{H}^T) \\cdot \\textbf{S}^{-1} $$"
     ]
    },
    {
     "cell_type": "code",
     "collapsed": false,
     "input": [
      "K = (P*H.T) * S.inv()\n",
      "#print(K.shape)\n",
      "#K"
     ],
     "language": "python",
     "metadata": {},
     "outputs": [],
     "prompt_number": 22
    },
    {
     "cell_type": "markdown",
     "metadata": {},
     "source": [
      "$$ y = z - (\\textbf{H} \\cdot x) $$"
     ]
    },
    {
     "cell_type": "code",
     "collapsed": false,
     "input": [
      "y = z - (H*x)\n",
      "#print(y.shape)\n",
      "#y"
     ],
     "language": "python",
     "metadata": {},
     "outputs": [],
     "prompt_number": 23
    },
    {
     "cell_type": "markdown",
     "metadata": {},
     "source": [
      "$$ \\hat{x}_{k+1} = \\hat{x}_{k+1}^{-} + ( \\textbf{K} \\cdot y) $$"
     ]
    },
    {
     "cell_type": "code",
     "collapsed": false,
     "input": [
      "x + (K*y)\n"
     ],
     "language": "python",
     "metadata": {},
     "outputs": [
      {
       "latex": [
        "$$\\left[\\begin{matrix}\\frac{P_{{ 00}} \\left(- x_{{ 0}} + z_{{ 0}}\\right)}{P_{{ 00}} + R_{{ 0}}} + x_{{ 0}}\\\\\\frac{P_{{ 10}} \\left(- x_{{ 0}} + z_{{ 0}}\\right)}{P_{{ 00}} + R_{{ 0}}} + x_{{ 1}}\\\\\\frac{P_{{ 20}} \\left(- x_{{ 0}} + z_{{ 0}}\\right)}{P_{{ 00}} + R_{{ 0}}} + x_{{ 2}}\\end{matrix}\\right]$$"
       ],
       "metadata": {},
       "output_type": "pyout",
       "png": "[encoded data removed]",
       "prompt_number": 24,
       "text": [
        "\u23a1P_{ 00}\u22c5(-x_{ 0} + z_{ 0})         \u23a4\n",
        "\u23a2\u2500\u2500\u2500\u2500\u2500\u2500\u2500\u2500\u2500\u2500\u2500\u2500\u2500\u2500\u2500\u2500\u2500\u2500\u2500\u2500\u2500\u2500\u2500\u2500\u2500\u2500 + x_{ 0}\u23a5\n",
        "\u23a2     P_{ 00} + R_{ 0}              \u23a5\n",
        "\u23a2                                   \u23a5\n",
        "\u23a2P_{ 10}\u22c5(-x_{ 0} + z_{ 0})         \u23a5\n",
        "\u23a2\u2500\u2500\u2500\u2500\u2500\u2500\u2500\u2500\u2500\u2500\u2500\u2500\u2500\u2500\u2500\u2500\u2500\u2500\u2500\u2500\u2500\u2500\u2500\u2500\u2500\u2500 + x_{ 1}\u23a5\n",
        "\u23a2     P_{ 00} + R_{ 0}              \u23a5\n",
        "\u23a2                                   \u23a5\n",
        "\u23a2P_{ 20}\u22c5(-x_{ 0} + z_{ 0})         \u23a5\n",
        "\u23a2\u2500\u2500\u2500\u2500\u2500\u2500\u2500\u2500\u2500\u2500\u2500\u2500\u2500\u2500\u2500\u2500\u2500\u2500\u2500\u2500\u2500\u2500\u2500\u2500\u2500\u2500 + x_{ 2}\u23a5\n",
        "\u23a3     P_{ 00} + R_{ 0}              \u23a6"
       ]
      }
     ],
     "prompt_number": 24
    },
    {
     "cell_type": "markdown",
     "metadata": {},
     "source": [
      "$$ \\textbf{P}_{k+1} = (\\textbf{I} - (\\textbf{K} \\cdot \\textbf{H} ) ) \\cdot \\textbf{P}_{k+1}^{-} $$"
     ]
    },
    {
     "cell_type": "code",
     "collapsed": false,
     "input": [
      "I = eye(n)\n",
      "(I - (K*H))*P"
     ],
     "language": "python",
     "metadata": {},
     "outputs": [
      {
       "latex": [
        "$$\\left[\\begin{matrix}P_{{ 00}} \\left(- \\frac{P_{{ 00}}}{P_{{ 00}} + R_{{ 0}}} + 1\\right) & P_{{ 01}} \\left(- \\frac{P_{{ 00}}}{P_{{ 00}} + R_{{ 0}}} + 1\\right) & P_{{ 02}} \\left(- \\frac{P_{{ 00}}}{P_{{ 00}} + R_{{ 0}}} + 1\\right)\\\\- \\frac{P_{{ 00}} P_{{ 10}}}{P_{{ 00}} + R_{{ 0}}} + P_{{ 10}} & - \\frac{P_{{ 01}} P_{{ 10}}}{P_{{ 00}} + R_{{ 0}}} + P_{{ 11}} & - \\frac{P_{{ 02}} P_{{ 10}}}{P_{{ 00}} + R_{{ 0}}} + P_{{ 12}}\\\\- \\frac{P_{{ 00}} P_{{ 20}}}{P_{{ 00}} + R_{{ 0}}} + P_{{ 20}} & - \\frac{P_{{ 01}} P_{{ 20}}}{P_{{ 00}} + R_{{ 0}}} + P_{{ 21}} & - \\frac{P_{{ 02}} P_{{ 20}}}{P_{{ 00}} + R_{{ 0}}} + P_{{ 22}}\\end{matrix}\\right]$$"
       ],
       "metadata": {},
       "output_type": "pyout",
       "png": "[encoded data removed]",
       "prompt_number": 25,
       "text": [
        "\u23a1        \u239b      P_{ 00}         \u239e          \u239b      P_{ 00}         \u239e          \u239b\n",
        "\u23a2P_{ 00}\u22c5\u239c- \u2500\u2500\u2500\u2500\u2500\u2500\u2500\u2500\u2500\u2500\u2500\u2500\u2500\u2500\u2500\u2500 + 1\u239f  P_{ 01}\u22c5\u239c- \u2500\u2500\u2500\u2500\u2500\u2500\u2500\u2500\u2500\u2500\u2500\u2500\u2500\u2500\u2500\u2500 + 1\u239f  P_{ 02}\u22c5\u239c\n",
        "\u23a2        \u239d  P_{ 00} + R_{ 0}    \u23a0          \u239d  P_{ 00} + R_{ 0}    \u23a0          \u239d\n",
        "\u23a2                                                                             \n",
        "\u23a2    P_{ 00}\u22c5P_{ 10}                   P_{ 01}\u22c5P_{ 10}                   P_{ 0\n",
        "\u23a2  - \u2500\u2500\u2500\u2500\u2500\u2500\u2500\u2500\u2500\u2500\u2500\u2500\u2500\u2500\u2500\u2500 + P_{ 10}      - \u2500\u2500\u2500\u2500\u2500\u2500\u2500\u2500\u2500\u2500\u2500\u2500\u2500\u2500\u2500\u2500 + P_{ 11}      - \u2500\u2500\u2500\u2500\u2500\n",
        "\u23a2    P_{ 00} + R_{ 0}                  P_{ 00} + R_{ 0}                  P_{ 0\n",
        "\u23a2                                                                             \n",
        "\u23a2    P_{ 00}\u22c5P_{ 20}                   P_{ 01}\u22c5P_{ 20}                   P_{ 0\n",
        "\u23a2  - \u2500\u2500\u2500\u2500\u2500\u2500\u2500\u2500\u2500\u2500\u2500\u2500\u2500\u2500\u2500\u2500 + P_{ 20}      - \u2500\u2500\u2500\u2500\u2500\u2500\u2500\u2500\u2500\u2500\u2500\u2500\u2500\u2500\u2500\u2500 + P_{ 21}      - \u2500\u2500\u2500\u2500\u2500\n",
        "\u23a3    P_{ 00} + R_{ 0}                  P_{ 00} + R_{ 0}                  P_{ 0\n",
        "\n",
        "      P_{ 00}         \u239e\u23a4\n",
        "- \u2500\u2500\u2500\u2500\u2500\u2500\u2500\u2500\u2500\u2500\u2500\u2500\u2500\u2500\u2500\u2500 + 1\u239f\u23a5\n",
        "  P_{ 00} + R_{ 0}    \u23a0\u23a5\n",
        "                       \u23a5\n",
        "2}\u22c5P_{ 10}             \u23a5\n",
        "\u2500\u2500\u2500\u2500\u2500\u2500\u2500\u2500\u2500\u2500\u2500 + P_{ 12}  \u23a5\n",
        "0} + R_{ 0}            \u23a5\n",
        "                       \u23a5\n",
        "2}\u22c5P_{ 20}             \u23a5\n",
        "\u2500\u2500\u2500\u2500\u2500\u2500\u2500\u2500\u2500\u2500\u2500 + P_{ 22}  \u23a5\n",
        "0} + R_{ 0}            \u23a6"
       ]
      }
     ],
     "prompt_number": 25
    },
    {
     "cell_type": "code",
     "collapsed": false,
     "input": [],
     "language": "python",
     "metadata": {},
     "outputs": [],
     "prompt_number": 25
    }
   ],
   "metadata": {}
  }
 ]
}